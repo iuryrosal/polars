{
 "cells": [
  {
   "cell_type": "markdown",
   "id": "adc32028",
   "metadata": {},
   "source": [
    "# Introdução \n",
    "### por Iury Rosal\n",
    "\n"
   ]
  },
  {
   "cell_type": "code",
   "execution_count": 1,
   "id": "6de65d90",
   "metadata": {},
   "outputs": [
    {
     "name": "stdout",
     "output_type": "stream",
     "text": [
      "Requirement already satisfied: polars in d:\\apps\\anaconda\\lib\\site-packages (0.16.14)\n",
      "Requirement already satisfied: typing_extensions>=4.0.1 in d:\\apps\\anaconda\\lib\\site-packages (from polars) (4.3.0)\n"
     ]
    }
   ],
   "source": [
    "!pip install polars"
   ]
  },
  {
   "cell_type": "code",
   "execution_count": 2,
   "id": "673dae6b",
   "metadata": {},
   "outputs": [],
   "source": [
    "import polars as pl"
   ]
  },
  {
   "cell_type": "markdown",
   "id": "2a1e2649",
   "metadata": {},
   "source": [
    "# Estruturas de Dados"
   ]
  },
  {
   "cell_type": "markdown",
   "id": "bb8d77c8",
   "metadata": {},
   "source": [
    "## Series"
   ]
  },
  {
   "cell_type": "code",
   "execution_count": 3,
   "id": "cd31b6b3",
   "metadata": {},
   "outputs": [
    {
     "data": {
      "text/html": [
       "<div><style>\n",
       ".dataframe > thead > tr > th,\n",
       ".dataframe > tbody > tr > td {\n",
       "  text-align: right;\n",
       "}\n",
       "</style>\n",
       "<small>shape: (3,)</small><table border=\"1\" class=\"dataframe\"><thead><tr><th>a</th></tr><tr><td>i64</td></tr></thead><tbody><tr><td>1</td></tr><tr><td>2</td></tr><tr><td>3</td></tr></tbody></table></div>"
      ],
      "text/plain": [
       "shape: (3,)\n",
       "Series: 'a' [i64]\n",
       "[\n",
       "\t1\n",
       "\t2\n",
       "\t3\n",
       "]"
      ]
     },
     "execution_count": 3,
     "metadata": {},
     "output_type": "execute_result"
    }
   ],
   "source": [
    "s = pl.Series(\"a\", [1, 2, 3])\n",
    "s"
   ]
  },
  {
   "cell_type": "code",
   "execution_count": 4,
   "id": "cd9bfd40",
   "metadata": {},
   "outputs": [
    {
     "data": {
      "text/plain": [
       "Int64"
      ]
     },
     "execution_count": 4,
     "metadata": {},
     "output_type": "execute_result"
    }
   ],
   "source": [
    "s.dtype"
   ]
  },
  {
   "cell_type": "code",
   "execution_count": 5,
   "id": "f1370ca8",
   "metadata": {},
   "outputs": [
    {
     "data": {
      "text/plain": [
       "(3,)"
      ]
     },
     "execution_count": 5,
     "metadata": {},
     "output_type": "execute_result"
    }
   ],
   "source": [
    "s.shape"
   ]
  },
  {
   "cell_type": "code",
   "execution_count": 6,
   "id": "ebac708d",
   "metadata": {},
   "outputs": [
    {
     "data": {
      "text/html": [
       "<div><style>\n",
       ".dataframe > thead > tr > th,\n",
       ".dataframe > tbody > tr > td {\n",
       "  text-align: right;\n",
       "}\n",
       "</style>\n",
       "<small>shape: (3,)</small><table border=\"1\" class=\"dataframe\"><thead><tr><th>a</th></tr><tr><td>f32</td></tr></thead><tbody><tr><td>1.0</td></tr><tr><td>2.0</td></tr><tr><td>3.0</td></tr></tbody></table></div>"
      ],
      "text/plain": [
       "shape: (3,)\n",
       "Series: 'a' [f32]\n",
       "[\n",
       "\t1.0\n",
       "\t2.0\n",
       "\t3.0\n",
       "]"
      ]
     },
     "execution_count": 6,
     "metadata": {},
     "output_type": "execute_result"
    }
   ],
   "source": [
    "s2 = pl.Series(\"a\", [1, 2, 3], dtype=pl.Float32)\n",
    "s2"
   ]
  },
  {
   "cell_type": "code",
   "execution_count": 7,
   "id": "30b23147",
   "metadata": {},
   "outputs": [
    {
     "data": {
      "text/html": [
       "<div><style>\n",
       ".dataframe > thead > tr > th,\n",
       ".dataframe > tbody > tr > td {\n",
       "  text-align: right;\n",
       "}\n",
       "</style>\n",
       "<small>shape: (5,)</small><table border=\"1\" class=\"dataframe\"><thead><tr><th>array_np</th></tr><tr><td>i32</td></tr></thead><tbody><tr><td>1</td></tr><tr><td>2</td></tr><tr><td>3</td></tr><tr><td>4</td></tr><tr><td>5</td></tr></tbody></table></div>"
      ],
      "text/plain": [
       "shape: (5,)\n",
       "Series: 'array_np' [i32]\n",
       "[\n",
       "\t1\n",
       "\t2\n",
       "\t3\n",
       "\t4\n",
       "\t5\n",
       "]"
      ]
     },
     "execution_count": 7,
     "metadata": {},
     "output_type": "execute_result"
    }
   ],
   "source": [
    "import numpy as np\n",
    "array_np = np.array([1, 2, 3, 4, 5])\n",
    "pl.Series(\"array_np\", array_np)"
   ]
  },
  {
   "cell_type": "markdown",
   "id": "88cff91f",
   "metadata": {},
   "source": [
    "## Dataframe"
   ]
  },
  {
   "cell_type": "code",
   "execution_count": 8,
   "id": "375d96a0",
   "metadata": {},
   "outputs": [
    {
     "data": {
      "text/html": [
       "<div><style>\n",
       ".dataframe > thead > tr > th,\n",
       ".dataframe > tbody > tr > td {\n",
       "  text-align: right;\n",
       "}\n",
       "</style>\n",
       "<small>shape: (2, 2)</small><table border=\"1\" class=\"dataframe\"><thead><tr><th>a</th><th>b</th></tr><tr><td>i64</td><td>i64</td></tr></thead><tbody><tr><td>1</td><td>3</td></tr><tr><td>2</td><td>4</td></tr></tbody></table></div>"
      ],
      "text/plain": [
       "shape: (2, 2)\n",
       "┌─────┬─────┐\n",
       "│ a   ┆ b   │\n",
       "│ --- ┆ --- │\n",
       "│ i64 ┆ i64 │\n",
       "╞═════╪═════╡\n",
       "│ 1   ┆ 3   │\n",
       "│ 2   ┆ 4   │\n",
       "└─────┴─────┘"
      ]
     },
     "execution_count": 8,
     "metadata": {},
     "output_type": "execute_result"
    }
   ],
   "source": [
    "data = {\"a\": [1, 2], \"b\": [3, 4]}\n",
    "df = pl.DataFrame(data)\n",
    "df"
   ]
  },
  {
   "cell_type": "code",
   "execution_count": 9,
   "id": "416dadd7",
   "metadata": {},
   "outputs": [
    {
     "data": {
      "text/html": [
       "<div><style>\n",
       ".dataframe > thead > tr > th,\n",
       ".dataframe > tbody > tr > td {\n",
       "  text-align: right;\n",
       "}\n",
       "</style>\n",
       "<small>shape: (2, 2)</small><table border=\"1\" class=\"dataframe\"><thead><tr><th>a</th><th>b</th></tr><tr><td>f32</td><td>i64</td></tr></thead><tbody><tr><td>1.0</td><td>3</td></tr><tr><td>2.0</td><td>4</td></tr></tbody></table></div>"
      ],
      "text/plain": [
       "shape: (2, 2)\n",
       "┌─────┬─────┐\n",
       "│ a   ┆ b   │\n",
       "│ --- ┆ --- │\n",
       "│ f32 ┆ i64 │\n",
       "╞═════╪═════╡\n",
       "│ 1.0 ┆ 3   │\n",
       "│ 2.0 ┆ 4   │\n",
       "└─────┴─────┘"
      ]
     },
     "execution_count": 9,
     "metadata": {},
     "output_type": "execute_result"
    }
   ],
   "source": [
    "df2 = pl.DataFrame(data, schema={\"a\": pl.Float32, \"b\": pl.Int64})\n",
    "df2"
   ]
  },
  {
   "cell_type": "code",
   "execution_count": 10,
   "id": "ee0ac468",
   "metadata": {},
   "outputs": [
    {
     "data": {
      "text/html": [
       "<div><style>\n",
       ".dataframe > thead > tr > th,\n",
       ".dataframe > tbody > tr > td {\n",
       "  text-align: right;\n",
       "}\n",
       "</style>\n",
       "<small>shape: (2, 2)</small><table border=\"1\" class=\"dataframe\"><thead><tr><th>col1</th><th>col2</th></tr><tr><td>f32</td><td>i64</td></tr></thead><tbody><tr><td>1.0</td><td>3</td></tr><tr><td>2.0</td><td>4</td></tr></tbody></table></div>"
      ],
      "text/plain": [
       "shape: (2, 2)\n",
       "┌──────┬──────┐\n",
       "│ col1 ┆ col2 │\n",
       "│ ---  ┆ ---  │\n",
       "│ f32  ┆ i64  │\n",
       "╞══════╪══════╡\n",
       "│ 1.0  ┆ 3    │\n",
       "│ 2.0  ┆ 4    │\n",
       "└──────┴──────┘"
      ]
     },
     "execution_count": 10,
     "metadata": {},
     "output_type": "execute_result"
    }
   ],
   "source": [
    "df3 = pl.DataFrame(data, schema=[(\"col1\", pl.Float32), (\"col2\", pl.Int64)])\n",
    "df3"
   ]
  },
  {
   "cell_type": "code",
   "execution_count": 11,
   "id": "04f8522f",
   "metadata": {},
   "outputs": [
    {
     "data": {
      "text/html": [
       "<div><style>\n",
       ".dataframe > thead > tr > th,\n",
       ".dataframe > tbody > tr > td {\n",
       "  text-align: right;\n",
       "}\n",
       "</style>\n",
       "<small>shape: (2, 2)</small><table border=\"1\" class=\"dataframe\"><thead><tr><th>col1</th><th>col2</th></tr><tr><td>f32</td><td>i64</td></tr></thead><tbody><tr><td>1.0</td><td>3</td></tr><tr><td>2.0</td><td>4</td></tr></tbody></table></div>"
      ],
      "text/plain": [
       "shape: (2, 2)\n",
       "┌──────┬──────┐\n",
       "│ col1 ┆ col2 │\n",
       "│ ---  ┆ ---  │\n",
       "│ f32  ┆ i64  │\n",
       "╞══════╪══════╡\n",
       "│ 1.0  ┆ 3    │\n",
       "│ 2.0  ┆ 4    │\n",
       "└──────┴──────┘"
      ]
     },
     "execution_count": 11,
     "metadata": {},
     "output_type": "execute_result"
    }
   ],
   "source": [
    "data = [\n",
    "    pl.Series(\"col1\", [1, 2], dtype=pl.Float32),\n",
    "    pl.Series(\"col2\", [3, 4], dtype=pl.Int64),\n",
    "]\n",
    "df4 = pl.DataFrame(data)\n",
    "df4"
   ]
  },
  {
   "cell_type": "code",
   "execution_count": 12,
   "id": "f347b7a1",
   "metadata": {},
   "outputs": [
    {
     "data": {
      "text/html": [
       "<div><style>\n",
       ".dataframe > thead > tr > th,\n",
       ".dataframe > tbody > tr > td {\n",
       "  text-align: right;\n",
       "}\n",
       "</style>\n",
       "<small>shape: (2, 2)</small><table border=\"1\" class=\"dataframe\"><thead><tr><th>a</th><th>b</th></tr><tr><td>i64</td><td>i64</td></tr></thead><tbody><tr><td>1</td><td>3</td></tr><tr><td>2</td><td>4</td></tr></tbody></table></div>"
      ],
      "text/plain": [
       "shape: (2, 2)\n",
       "┌─────┬─────┐\n",
       "│ a   ┆ b   │\n",
       "│ --- ┆ --- │\n",
       "│ i64 ┆ i64 │\n",
       "╞═════╪═════╡\n",
       "│ 1   ┆ 3   │\n",
       "│ 2   ┆ 4   │\n",
       "└─────┴─────┘"
      ]
     },
     "execution_count": 12,
     "metadata": {},
     "output_type": "execute_result"
    }
   ],
   "source": [
    "data = np.array([(1, 2), (3, 4)], dtype=np.int64)\n",
    "df5 = pl.DataFrame(data, schema=[\"a\", \"b\"], orient=\"col\")\n",
    "df5"
   ]
  },
  {
   "cell_type": "code",
   "execution_count": 13,
   "id": "8f5e3e31",
   "metadata": {},
   "outputs": [
    {
     "data": {
      "text/html": [
       "<div><style>\n",
       ".dataframe > thead > tr > th,\n",
       ".dataframe > tbody > tr > td {\n",
       "  text-align: right;\n",
       "}\n",
       "</style>\n",
       "<small>shape: (2, 3)</small><table border=\"1\" class=\"dataframe\"><thead><tr><th>a</th><th>b</th><th>c</th></tr><tr><td>i64</td><td>i64</td><td>i64</td></tr></thead><tbody><tr><td>1</td><td>2</td><td>3</td></tr><tr><td>4</td><td>5</td><td>6</td></tr></tbody></table></div>"
      ],
      "text/plain": [
       "shape: (2, 3)\n",
       "┌─────┬─────┬─────┐\n",
       "│ a   ┆ b   ┆ c   │\n",
       "│ --- ┆ --- ┆ --- │\n",
       "│ i64 ┆ i64 ┆ i64 │\n",
       "╞═════╪═════╪═════╡\n",
       "│ 1   ┆ 2   ┆ 3   │\n",
       "│ 4   ┆ 5   ┆ 6   │\n",
       "└─────┴─────┴─────┘"
      ]
     },
     "execution_count": 13,
     "metadata": {},
     "output_type": "execute_result"
    }
   ],
   "source": [
    "data = [[1, 2, 3], [4, 5, 6]]\n",
    "df6 = pl.DataFrame(data, schema=[\"a\", \"b\", \"c\"])\n",
    "df6"
   ]
  },
  {
   "cell_type": "code",
   "execution_count": 14,
   "id": "26ae9bb7",
   "metadata": {},
   "outputs": [
    {
     "data": {
      "text/plain": [
       "[Int64, Int64, Int64]"
      ]
     },
     "execution_count": 14,
     "metadata": {},
     "output_type": "execute_result"
    }
   ],
   "source": [
    "df6.dtypes"
   ]
  },
  {
   "cell_type": "code",
   "execution_count": 15,
   "id": "6af2a78e",
   "metadata": {},
   "outputs": [
    {
     "data": {
      "text/plain": [
       "(2, 3)"
      ]
     },
     "execution_count": 15,
     "metadata": {},
     "output_type": "execute_result"
    }
   ],
   "source": [
    "df6.shape"
   ]
  },
  {
   "cell_type": "code",
   "execution_count": 16,
   "id": "02cbfeb6",
   "metadata": {},
   "outputs": [
    {
     "name": "stdout",
     "output_type": "stream",
     "text": [
      "shape: (2, 3)\n",
      "┌─────┬─────┬─────┐\n",
      "│ a   ┆ b   ┆ c   │\n",
      "│ --- ┆ --- ┆ --- │\n",
      "│ i64 ┆ i64 ┆ i64 │\n",
      "╞═════╪═════╪═════╡\n",
      "│ 1   ┆ 2   ┆ 3   │\n",
      "│ 4   ┆ 5   ┆ 6   │\n",
      "└─────┴─────┴─────┘\n"
     ]
    }
   ],
   "source": [
    "print(df6)"
   ]
  },
  {
   "cell_type": "code",
   "execution_count": 17,
   "id": "1e5d6aaa",
   "metadata": {},
   "outputs": [
    {
     "data": {
      "text/plain": [
       "{'a': Int64, 'b': Int64, 'c': Int64}"
      ]
     },
     "execution_count": 17,
     "metadata": {},
     "output_type": "execute_result"
    }
   ],
   "source": [
    "df6.schema"
   ]
  },
  {
   "cell_type": "markdown",
   "id": "5859ea83",
   "metadata": {},
   "source": [
    "# Lendo de um arquivo CSV"
   ]
  },
  {
   "cell_type": "code",
   "execution_count": 18,
   "id": "2d80e7cb",
   "metadata": {},
   "outputs": [
    {
     "data": {
      "text/html": [
       "<div><style>\n",
       ".dataframe > thead > tr > th,\n",
       ".dataframe > tbody > tr > td {\n",
       "  text-align: right;\n",
       "}\n",
       "</style>\n",
       "<small>shape: (296, 8)</small><table border=\"1\" class=\"dataframe\"><thead><tr><th></th><th>Rank</th><th>Channel_Name</th><th>Subscriber_Count</th><th>Video_Views</th><th>Video_Count</th><th>Genre</th><th>Channel_Started</th></tr><tr><td>i64</td><td>i64</td><td>str</td><td>i64</td><td>i64</td><td>i64</td><td>str</td><td>i64</td></tr></thead><tbody><tr><td>0</td><td>1</td><td>&quot;T-Series&quot;</td><td>237000000</td><td>216495600668</td><td>18831</td><td>&quot;Music&quot;</td><td>2006</td></tr><tr><td>1</td><td>2</td><td>&quot;Cocomelon - Nu...</td><td>154000000</td><td>152638999634</td><td>861</td><td>&quot;Education&quot;</td><td>2006</td></tr><tr><td>2</td><td>3</td><td>&quot;SET India&quot;</td><td>152000000</td><td>140138068504</td><td>105649</td><td>&quot;Film &amp; Animati...</td><td>2006</td></tr><tr><td>3</td><td>4</td><td>&quot;Sony SAB&quot;</td><td>77500000</td><td>92952274861</td><td>65028</td><td>&quot;Film &amp; Animati...</td><td>2007</td></tr><tr><td>4</td><td>5</td><td>&quot;✿ Kids Diana S...</td><td>108000000</td><td>88452629066</td><td>1070</td><td>&quot;People &amp; Blogs...</td><td>2015</td></tr><tr><td>5</td><td>6</td><td>&quot;Like Nastya&quot;</td><td>104000000</td><td>88060349741</td><td>762</td><td>&quot;People &amp; Blogs...</td><td>2016</td></tr><tr><td>6</td><td>7</td><td>&quot;WWE&quot;</td><td>93500000</td><td>74447865775</td><td>66901</td><td>&quot;Sports&quot;</td><td>2007</td></tr><tr><td>7</td><td>8</td><td>&quot;Vlad and Niki&quot;</td><td>93900000</td><td>73333582362</td><td>530</td><td>&quot;Entertainment&quot;</td><td>2018</td></tr><tr><td>8</td><td>9</td><td>&quot;Movieclips&quot;</td><td>58700000</td><td>58923017461</td><td>40063</td><td>&quot;Film &amp; Animati...</td><td>2006</td></tr><tr><td>9</td><td>10</td><td>&quot;Colors TV&quot;</td><td>60200000</td><td>58056997206</td><td>104523</td><td>&quot;Film &amp; Animati...</td><td>2008</td></tr><tr><td>10</td><td>11</td><td>&quot;Zee Music Comp...</td><td>92800000</td><td>54295114324</td><td>7768</td><td>&quot;Music&quot;</td><td>2014</td></tr><tr><td>11</td><td>12</td><td>&quot;El Reino Infan...</td><td>55600000</td><td>54151900416</td><td>1434</td><td>&quot;Music&quot;</td><td>2011</td></tr><tr><td>&hellip;</td><td>&hellip;</td><td>&hellip;</td><td>&hellip;</td><td>&hellip;</td><td>&hellip;</td><td>&hellip;</td><td>&hellip;</td></tr><tr><td>288</td><td>289</td><td>&quot;ABP NEWS&quot;</td><td>35500000</td><td>11840564703</td><td>262326</td><td>&quot;People &amp; Blogs...</td><td>2012</td></tr><tr><td>289</td><td>290</td><td>&quot;GMMTV OFFICIAL...</td><td>15800000</td><td>11838649898</td><td>22174</td><td>&quot;Entertainment&quot;</td><td>2010</td></tr><tr><td>290</td><td>291</td><td>&quot;michaeljackson...</td><td>8080000</td><td>11806216949</td><td>138</td><td>&quot;Music&quot;</td><td>2009</td></tr><tr><td>291</td><td>292</td><td>&quot;ItsFunneh&quot;</td><td>9840000</td><td>11791649003</td><td>2519</td><td>&quot;Gaming&quot;</td><td>2011</td></tr><tr><td>292</td><td>293</td><td>&quot;NBA&quot;</td><td>19900000</td><td>11761981184</td><td>45177</td><td>&quot;Sports&quot;</td><td>2005</td></tr><tr><td>293</td><td>294</td><td>&quot;ChainsmokersVE...</td><td>11100000</td><td>11734620739</td><td>246</td><td>&quot;Music&quot;</td><td>2012</td></tr><tr><td>294</td><td>295</td><td>&quot;eltrece&quot;</td><td>12100000</td><td>11709869278</td><td>159305</td><td>&quot;Entertainment&quot;</td><td>2014</td></tr><tr><td>295</td><td>296</td><td>&quot;Jake Fellman&quot;</td><td>15000000</td><td>11618626248</td><td>440</td><td>&quot;Entertainment&quot;</td><td>2012</td></tr><tr><td>296</td><td>297</td><td>&quot;DisneyJuniorUK...</td><td>11300000</td><td>11586962179</td><td>2789</td><td>&quot;Entertainment&quot;</td><td>2010</td></tr><tr><td>297</td><td>298</td><td>&quot;JTBC Entertain...</td><td>7580000</td><td>11512332695</td><td>76838</td><td>&quot;Entertainment&quot;</td><td>2012</td></tr><tr><td>298</td><td>299</td><td>&quot;Mnet TV&quot;</td><td>9040000</td><td>11442069884</td><td>21617</td><td>&quot;Entertainment&quot;</td><td>2013</td></tr><tr><td>299</td><td>300</td><td>&quot;GMA News&quot;</td><td>12900000</td><td>11387663843</td><td>345736</td><td>&quot;News &amp; Politic...</td><td>2007</td></tr></tbody></table></div>"
      ],
      "text/plain": [
       "shape: (296, 8)\n",
       "┌─────┬──────┬────────────────────┬──────────────────┬──────────────┬─────────────┬──────────────────┬─────────────────┐\n",
       "│     ┆ Rank ┆ Channel_Name       ┆ Subscriber_Count ┆ Video_Views  ┆ Video_Count ┆ Genre            ┆ Channel_Started │\n",
       "│ --- ┆ ---  ┆ ---                ┆ ---              ┆ ---          ┆ ---         ┆ ---              ┆ ---             │\n",
       "│ i64 ┆ i64  ┆ str                ┆ i64              ┆ i64          ┆ i64         ┆ str              ┆ i64             │\n",
       "╞═════╪══════╪════════════════════╪══════════════════╪══════════════╪═════════════╪══════════════════╪═════════════════╡\n",
       "│ 0   ┆ 1    ┆ T-Series           ┆ 237000000        ┆ 216495600668 ┆ 18831       ┆ Music            ┆ 2006            │\n",
       "│ 1   ┆ 2    ┆ Cocomelon -        ┆ 154000000        ┆ 152638999634 ┆ 861         ┆ Education        ┆ 2006            │\n",
       "│     ┆      ┆ Nursery Rhymes     ┆                  ┆              ┆             ┆                  ┆                 │\n",
       "│ 2   ┆ 3    ┆ SET India          ┆ 152000000        ┆ 140138068504 ┆ 105649      ┆ Film & Animation ┆ 2006            │\n",
       "│ 3   ┆ 4    ┆ Sony SAB           ┆ 77500000         ┆ 92952274861  ┆ 65028       ┆ Film & Animation ┆ 2007            │\n",
       "│ …   ┆ …    ┆ …                  ┆ …                ┆ …            ┆ …           ┆ …                ┆ …               │\n",
       "│ 296 ┆ 297  ┆ DisneyJuniorUK     ┆ 11300000         ┆ 11586962179  ┆ 2789        ┆ Entertainment    ┆ 2010            │\n",
       "│ 297 ┆ 298  ┆ JTBC Entertainment ┆ 7580000          ┆ 11512332695  ┆ 76838       ┆ Entertainment    ┆ 2012            │\n",
       "│ 298 ┆ 299  ┆ Mnet TV            ┆ 9040000          ┆ 11442069884  ┆ 21617       ┆ Entertainment    ┆ 2013            │\n",
       "│ 299 ┆ 300  ┆ GMA News           ┆ 12900000         ┆ 11387663843  ┆ 345736      ┆ News & Politics  ┆ 2007            │\n",
       "└─────┴──────┴────────────────────┴──────────────────┴──────────────┴─────────────┴──────────────────┴─────────────────┘"
      ]
     },
     "execution_count": 18,
     "metadata": {},
     "output_type": "execute_result"
    }
   ],
   "source": [
    "dataframe = pl.read_csv(\"top-300-youtube-channels.csv\")\n",
    "dataframe"
   ]
  },
  {
   "cell_type": "markdown",
   "id": "dac7c8fc",
   "metadata": {},
   "source": [
    "# Informações Iniciais do Dataframe"
   ]
  },
  {
   "cell_type": "code",
   "execution_count": 19,
   "id": "a81ae9e0",
   "metadata": {},
   "outputs": [
    {
     "data": {
      "text/html": [
       "<div><style>\n",
       ".dataframe > thead > tr > th,\n",
       ".dataframe > tbody > tr > td {\n",
       "  text-align: right;\n",
       "}\n",
       "</style>\n",
       "<small>shape: (5, 8)</small><table border=\"1\" class=\"dataframe\"><thead><tr><th></th><th>Rank</th><th>Channel_Name</th><th>Subscriber_Count</th><th>Video_Views</th><th>Video_Count</th><th>Genre</th><th>Channel_Started</th></tr><tr><td>i64</td><td>i64</td><td>str</td><td>i64</td><td>i64</td><td>i64</td><td>str</td><td>i64</td></tr></thead><tbody><tr><td>0</td><td>1</td><td>&quot;T-Series&quot;</td><td>237000000</td><td>216495600668</td><td>18831</td><td>&quot;Music&quot;</td><td>2006</td></tr><tr><td>1</td><td>2</td><td>&quot;Cocomelon - Nu...</td><td>154000000</td><td>152638999634</td><td>861</td><td>&quot;Education&quot;</td><td>2006</td></tr><tr><td>2</td><td>3</td><td>&quot;SET India&quot;</td><td>152000000</td><td>140138068504</td><td>105649</td><td>&quot;Film &amp; Animati...</td><td>2006</td></tr><tr><td>3</td><td>4</td><td>&quot;Sony SAB&quot;</td><td>77500000</td><td>92952274861</td><td>65028</td><td>&quot;Film &amp; Animati...</td><td>2007</td></tr><tr><td>4</td><td>5</td><td>&quot;✿ Kids Diana S...</td><td>108000000</td><td>88452629066</td><td>1070</td><td>&quot;People &amp; Blogs...</td><td>2015</td></tr></tbody></table></div>"
      ],
      "text/plain": [
       "shape: (5, 8)\n",
       "┌─────┬──────┬────────────────────┬──────────────────┬──────────────┬─────────────┬──────────────────┬─────────────────┐\n",
       "│     ┆ Rank ┆ Channel_Name       ┆ Subscriber_Count ┆ Video_Views  ┆ Video_Count ┆ Genre            ┆ Channel_Started │\n",
       "│ --- ┆ ---  ┆ ---                ┆ ---              ┆ ---          ┆ ---         ┆ ---              ┆ ---             │\n",
       "│ i64 ┆ i64  ┆ str                ┆ i64              ┆ i64          ┆ i64         ┆ str              ┆ i64             │\n",
       "╞═════╪══════╪════════════════════╪══════════════════╪══════════════╪═════════════╪══════════════════╪═════════════════╡\n",
       "│ 0   ┆ 1    ┆ T-Series           ┆ 237000000        ┆ 216495600668 ┆ 18831       ┆ Music            ┆ 2006            │\n",
       "│ 1   ┆ 2    ┆ Cocomelon -        ┆ 154000000        ┆ 152638999634 ┆ 861         ┆ Education        ┆ 2006            │\n",
       "│     ┆      ┆ Nursery Rhymes     ┆                  ┆              ┆             ┆                  ┆                 │\n",
       "│ 2   ┆ 3    ┆ SET India          ┆ 152000000        ┆ 140138068504 ┆ 105649      ┆ Film & Animation ┆ 2006            │\n",
       "│ 3   ┆ 4    ┆ Sony SAB           ┆ 77500000         ┆ 92952274861  ┆ 65028       ┆ Film & Animation ┆ 2007            │\n",
       "│ 4   ┆ 5    ┆ ✿ Kids Diana Show  ┆ 108000000        ┆ 88452629066  ┆ 1070        ┆ People & Blogs   ┆ 2015            │\n",
       "└─────┴──────┴────────────────────┴──────────────────┴──────────────┴─────────────┴──────────────────┴─────────────────┘"
      ]
     },
     "execution_count": 19,
     "metadata": {},
     "output_type": "execute_result"
    }
   ],
   "source": [
    "dataframe.head(5)"
   ]
  },
  {
   "cell_type": "code",
   "execution_count": 20,
   "id": "a19e262f",
   "metadata": {},
   "outputs": [
    {
     "data": {
      "text/html": [
       "<div><style>\n",
       ".dataframe > thead > tr > th,\n",
       ".dataframe > tbody > tr > td {\n",
       "  text-align: right;\n",
       "}\n",
       "</style>\n",
       "<small>shape: (5, 8)</small><table border=\"1\" class=\"dataframe\"><thead><tr><th></th><th>Rank</th><th>Channel_Name</th><th>Subscriber_Count</th><th>Video_Views</th><th>Video_Count</th><th>Genre</th><th>Channel_Started</th></tr><tr><td>i64</td><td>i64</td><td>str</td><td>i64</td><td>i64</td><td>i64</td><td>str</td><td>i64</td></tr></thead><tbody><tr><td>0</td><td>1</td><td>&quot;T-Series&quot;</td><td>237000000</td><td>216495600668</td><td>18831</td><td>&quot;Music&quot;</td><td>2006</td></tr><tr><td>1</td><td>2</td><td>&quot;Cocomelon - Nu...</td><td>154000000</td><td>152638999634</td><td>861</td><td>&quot;Education&quot;</td><td>2006</td></tr><tr><td>2</td><td>3</td><td>&quot;SET India&quot;</td><td>152000000</td><td>140138068504</td><td>105649</td><td>&quot;Film &amp; Animati...</td><td>2006</td></tr><tr><td>3</td><td>4</td><td>&quot;Sony SAB&quot;</td><td>77500000</td><td>92952274861</td><td>65028</td><td>&quot;Film &amp; Animati...</td><td>2007</td></tr><tr><td>4</td><td>5</td><td>&quot;✿ Kids Diana S...</td><td>108000000</td><td>88452629066</td><td>1070</td><td>&quot;People &amp; Blogs...</td><td>2015</td></tr></tbody></table></div>"
      ],
      "text/plain": [
       "shape: (5, 8)\n",
       "┌─────┬──────┬────────────────────┬──────────────────┬──────────────┬─────────────┬──────────────────┬─────────────────┐\n",
       "│     ┆ Rank ┆ Channel_Name       ┆ Subscriber_Count ┆ Video_Views  ┆ Video_Count ┆ Genre            ┆ Channel_Started │\n",
       "│ --- ┆ ---  ┆ ---                ┆ ---              ┆ ---          ┆ ---         ┆ ---              ┆ ---             │\n",
       "│ i64 ┆ i64  ┆ str                ┆ i64              ┆ i64          ┆ i64         ┆ str              ┆ i64             │\n",
       "╞═════╪══════╪════════════════════╪══════════════════╪══════════════╪═════════════╪══════════════════╪═════════════════╡\n",
       "│ 0   ┆ 1    ┆ T-Series           ┆ 237000000        ┆ 216495600668 ┆ 18831       ┆ Music            ┆ 2006            │\n",
       "│ 1   ┆ 2    ┆ Cocomelon -        ┆ 154000000        ┆ 152638999634 ┆ 861         ┆ Education        ┆ 2006            │\n",
       "│     ┆      ┆ Nursery Rhymes     ┆                  ┆              ┆             ┆                  ┆                 │\n",
       "│ 2   ┆ 3    ┆ SET India          ┆ 152000000        ┆ 140138068504 ┆ 105649      ┆ Film & Animation ┆ 2006            │\n",
       "│ 3   ┆ 4    ┆ Sony SAB           ┆ 77500000         ┆ 92952274861  ┆ 65028       ┆ Film & Animation ┆ 2007            │\n",
       "│ 4   ┆ 5    ┆ ✿ Kids Diana Show  ┆ 108000000        ┆ 88452629066  ┆ 1070        ┆ People & Blogs   ┆ 2015            │\n",
       "└─────┴──────┴────────────────────┴──────────────────┴──────────────┴─────────────┴──────────────────┴─────────────────┘"
      ]
     },
     "execution_count": 20,
     "metadata": {},
     "output_type": "execute_result"
    }
   ],
   "source": [
    "dataframe.limit(5)"
   ]
  },
  {
   "cell_type": "code",
   "execution_count": 21,
   "id": "51870f8a",
   "metadata": {},
   "outputs": [
    {
     "data": {
      "text/html": [
       "<div><style>\n",
       ".dataframe > thead > tr > th,\n",
       ".dataframe > tbody > tr > td {\n",
       "  text-align: right;\n",
       "}\n",
       "</style>\n",
       "<small>shape: (5, 8)</small><table border=\"1\" class=\"dataframe\"><thead><tr><th></th><th>Rank</th><th>Channel_Name</th><th>Subscriber_Count</th><th>Video_Views</th><th>Video_Count</th><th>Genre</th><th>Channel_Started</th></tr><tr><td>i64</td><td>i64</td><td>str</td><td>i64</td><td>i64</td><td>i64</td><td>str</td><td>i64</td></tr></thead><tbody><tr><td>295</td><td>296</td><td>&quot;Jake Fellman&quot;</td><td>15000000</td><td>11618626248</td><td>440</td><td>&quot;Entertainment&quot;</td><td>2012</td></tr><tr><td>296</td><td>297</td><td>&quot;DisneyJuniorUK...</td><td>11300000</td><td>11586962179</td><td>2789</td><td>&quot;Entertainment&quot;</td><td>2010</td></tr><tr><td>297</td><td>298</td><td>&quot;JTBC Entertain...</td><td>7580000</td><td>11512332695</td><td>76838</td><td>&quot;Entertainment&quot;</td><td>2012</td></tr><tr><td>298</td><td>299</td><td>&quot;Mnet TV&quot;</td><td>9040000</td><td>11442069884</td><td>21617</td><td>&quot;Entertainment&quot;</td><td>2013</td></tr><tr><td>299</td><td>300</td><td>&quot;GMA News&quot;</td><td>12900000</td><td>11387663843</td><td>345736</td><td>&quot;News &amp; Politic...</td><td>2007</td></tr></tbody></table></div>"
      ],
      "text/plain": [
       "shape: (5, 8)\n",
       "┌─────┬──────┬────────────────────┬──────────────────┬─────────────┬─────────────┬─────────────────┬─────────────────┐\n",
       "│     ┆ Rank ┆ Channel_Name       ┆ Subscriber_Count ┆ Video_Views ┆ Video_Count ┆ Genre           ┆ Channel_Started │\n",
       "│ --- ┆ ---  ┆ ---                ┆ ---              ┆ ---         ┆ ---         ┆ ---             ┆ ---             │\n",
       "│ i64 ┆ i64  ┆ str                ┆ i64              ┆ i64         ┆ i64         ┆ str             ┆ i64             │\n",
       "╞═════╪══════╪════════════════════╪══════════════════╪═════════════╪═════════════╪═════════════════╪═════════════════╡\n",
       "│ 295 ┆ 296  ┆ Jake Fellman       ┆ 15000000         ┆ 11618626248 ┆ 440         ┆ Entertainment   ┆ 2012            │\n",
       "│ 296 ┆ 297  ┆ DisneyJuniorUK     ┆ 11300000         ┆ 11586962179 ┆ 2789        ┆ Entertainment   ┆ 2010            │\n",
       "│ 297 ┆ 298  ┆ JTBC Entertainment ┆ 7580000          ┆ 11512332695 ┆ 76838       ┆ Entertainment   ┆ 2012            │\n",
       "│ 298 ┆ 299  ┆ Mnet TV            ┆ 9040000          ┆ 11442069884 ┆ 21617       ┆ Entertainment   ┆ 2013            │\n",
       "│ 299 ┆ 300  ┆ GMA News           ┆ 12900000         ┆ 11387663843 ┆ 345736      ┆ News & Politics ┆ 2007            │\n",
       "└─────┴──────┴────────────────────┴──────────────────┴─────────────┴─────────────┴─────────────────┴─────────────────┘"
      ]
     },
     "execution_count": 21,
     "metadata": {},
     "output_type": "execute_result"
    }
   ],
   "source": [
    "dataframe.tail(5)"
   ]
  },
  {
   "cell_type": "code",
   "execution_count": 22,
   "id": "f9412efb",
   "metadata": {},
   "outputs": [
    {
     "data": {
      "text/html": [
       "<div><style>\n",
       ".dataframe > thead > tr > th,\n",
       ".dataframe > tbody > tr > td {\n",
       "  text-align: right;\n",
       "}\n",
       "</style>\n",
       "<small>shape: (7, 9)</small><table border=\"1\" class=\"dataframe\"><thead><tr><th>describe</th><th>column_0</th><th>Rank</th><th>Channel_Name</th><th>Subscriber_Count</th><th>Video_Views</th><th>Video_Count</th><th>Genre</th><th>Channel_Started</th></tr><tr><td>str</td><td>f64</td><td>f64</td><td>str</td><td>f64</td><td>f64</td><td>f64</td><td>str</td><td>f64</td></tr></thead><tbody><tr><td>&quot;count&quot;</td><td>296.0</td><td>296.0</td><td>&quot;296&quot;</td><td>296.0</td><td>296.0</td><td>296.0</td><td>&quot;296&quot;</td><td>296.0</td></tr><tr><td>&quot;null_count&quot;</td><td>0.0</td><td>0.0</td><td>&quot;0&quot;</td><td>0.0</td><td>0.0</td><td>0.0</td><td>&quot;0&quot;</td><td>0.0</td></tr><tr><td>&quot;mean&quot;</td><td>149.760135</td><td>150.760135</td><td>null</td><td>3.1592e7</td><td>2.1996e10</td><td>19174.331081</td><td>null</td><td>2011.368243</td></tr><tr><td>&quot;std&quot;</td><td>86.813964</td><td>86.813964</td><td>null</td><td>2.4714e7</td><td>1.9425e10</td><td>46072.700205</td><td>null</td><td>3.997822</td></tr><tr><td>&quot;min&quot;</td><td>0.0</td><td>1.0</td><td>&quot;1theK (원더케이)&quot;</td><td>3.72e6</td><td>1.1388e10</td><td>15.0</td><td>&quot;Comedy&quot;</td><td>2005.0</td></tr><tr><td>&quot;max&quot;</td><td>299.0</td><td>300.0</td><td>&quot;東海オンエア&quot;</td><td>2.37e8</td><td>2.1650e11</td><td>345736.0</td><td>&quot;Sports&quot;</td><td>2021.0</td></tr><tr><td>&quot;median&quot;</td><td>150.5</td><td>151.5</td><td>null</td><td>2.57e7</td><td>1.6337e10</td><td>1984.5</td><td>null</td><td>2011.0</td></tr></tbody></table></div>"
      ],
      "text/plain": [
       "shape: (7, 9)\n",
       "┌────────────┬────────────┬────────────┬──────────────────┬───┬─────────────┬──────────────┬────────┬─────────────────┐\n",
       "│ describe   ┆ column_0   ┆ Rank       ┆ Channel_Name     ┆ … ┆ Video_Views ┆ Video_Count  ┆ Genre  ┆ Channel_Started │\n",
       "│ ---        ┆ ---        ┆ ---        ┆ ---              ┆   ┆ ---         ┆ ---          ┆ ---    ┆ ---             │\n",
       "│ str        ┆ f64        ┆ f64        ┆ str              ┆   ┆ f64         ┆ f64          ┆ str    ┆ f64             │\n",
       "╞════════════╪════════════╪════════════╪══════════════════╪═══╪═════════════╪══════════════╪════════╪═════════════════╡\n",
       "│ count      ┆ 296.0      ┆ 296.0      ┆ 296              ┆ … ┆ 296.0       ┆ 296.0        ┆ 296    ┆ 296.0           │\n",
       "│ null_count ┆ 0.0        ┆ 0.0        ┆ 0                ┆ … ┆ 0.0         ┆ 0.0          ┆ 0      ┆ 0.0             │\n",
       "│ mean       ┆ 149.760135 ┆ 150.760135 ┆ null             ┆ … ┆ 2.1996e10   ┆ 19174.331081 ┆ null   ┆ 2011.368243     │\n",
       "│ std        ┆ 86.813964  ┆ 86.813964  ┆ null             ┆ … ┆ 1.9425e10   ┆ 46072.700205 ┆ null   ┆ 3.997822        │\n",
       "│ min        ┆ 0.0        ┆ 1.0        ┆ 1theK (원더케이) ┆ … ┆ 1.1388e10   ┆ 15.0         ┆ Comedy ┆ 2005.0          │\n",
       "│ max        ┆ 299.0      ┆ 300.0      ┆ 東海オンエア     ┆ … ┆ 2.1650e11   ┆ 345736.0     ┆ Sports ┆ 2021.0          │\n",
       "│ median     ┆ 150.5      ┆ 151.5      ┆ null             ┆ … ┆ 1.6337e10   ┆ 1984.5       ┆ null   ┆ 2011.0          │\n",
       "└────────────┴────────────┴────────────┴──────────────────┴───┴─────────────┴──────────────┴────────┴─────────────────┘"
      ]
     },
     "execution_count": 22,
     "metadata": {},
     "output_type": "execute_result"
    }
   ],
   "source": [
    "dataframe.describe()"
   ]
  },
  {
   "cell_type": "markdown",
   "id": "e71e72d6",
   "metadata": {},
   "source": [
    "# Select"
   ]
  },
  {
   "cell_type": "markdown",
   "id": "74113f62",
   "metadata": {},
   "source": [
    "## Selecionando por valor na linha\n",
    "No pandas, fazemos:\n",
    "\n",
    "    dataframe[dataframe.Genre == \"Education\"].head()"
   ]
  },
  {
   "cell_type": "code",
   "execution_count": 23,
   "id": "d25447e4",
   "metadata": {},
   "outputs": [
    {
     "data": {
      "text/html": [
       "<div><style>\n",
       ".dataframe > thead > tr > th,\n",
       ".dataframe > tbody > tr > td {\n",
       "  text-align: right;\n",
       "}\n",
       "</style>\n",
       "<small>shape: (5, 8)</small><table border=\"1\" class=\"dataframe\"><thead><tr><th></th><th>Rank</th><th>Channel_Name</th><th>Subscriber_Count</th><th>Video_Views</th><th>Video_Count</th><th>Genre</th><th>Channel_Started</th></tr><tr><td>i64</td><td>i64</td><td>str</td><td>i64</td><td>i64</td><td>i64</td><td>str</td><td>i64</td></tr></thead><tbody><tr><td>1</td><td>2</td><td>&quot;Cocomelon - Nu...</td><td>154000000</td><td>152638999634</td><td>861</td><td>&quot;Education&quot;</td><td>2006</td></tr><tr><td>16</td><td>17</td><td>&quot;ChuChu TV Nurs...</td><td>61900000</td><td>42589514748</td><td>546</td><td>&quot;Education&quot;</td><td>2013</td></tr><tr><td>18</td><td>19</td><td>&quot;Super Simple S...</td><td>37800000</td><td>41715976696</td><td>667</td><td>&quot;Education&quot;</td><td>2006</td></tr><tr><td>20</td><td>21</td><td>&quot;Little Baby Bu...</td><td>40800000</td><td>38840192263</td><td>2287</td><td>&quot;Education&quot;</td><td>2011</td></tr><tr><td>22</td><td>23</td><td>&quot;Pinkfong Baby ...</td><td>65700000</td><td>36688824621</td><td>2647</td><td>&quot;Education&quot;</td><td>2011</td></tr></tbody></table></div>"
      ],
      "text/plain": [
       "shape: (5, 8)\n",
       "┌─────┬──────┬───────────────────────────┬──────────────────┬──────────────┬─────────────┬───────────┬─────────────────┐\n",
       "│     ┆ Rank ┆ Channel_Name              ┆ Subscriber_Count ┆ Video_Views  ┆ Video_Count ┆ Genre     ┆ Channel_Started │\n",
       "│ --- ┆ ---  ┆ ---                       ┆ ---              ┆ ---          ┆ ---         ┆ ---       ┆ ---             │\n",
       "│ i64 ┆ i64  ┆ str                       ┆ i64              ┆ i64          ┆ i64         ┆ str       ┆ i64             │\n",
       "╞═════╪══════╪═══════════════════════════╪══════════════════╪══════════════╪═════════════╪═══════════╪═════════════════╡\n",
       "│ 1   ┆ 2    ┆ Cocomelon - Nursery       ┆ 154000000        ┆ 152638999634 ┆ 861         ┆ Education ┆ 2006            │\n",
       "│     ┆      ┆ Rhymes                    ┆                  ┆              ┆             ┆           ┆                 │\n",
       "│ 16  ┆ 17   ┆ ChuChu TV Nursery Rhymes  ┆ 61900000         ┆ 42589514748  ┆ 546         ┆ Education ┆ 2013            │\n",
       "│     ┆      ┆ & Kids …                  ┆                  ┆              ┆             ┆           ┆                 │\n",
       "│ 18  ┆ 19   ┆ Super Simple Songs - Kids ┆ 37800000         ┆ 41715976696  ┆ 667         ┆ Education ┆ 2006            │\n",
       "│     ┆      ┆ Songs                     ┆                  ┆              ┆             ┆           ┆                 │\n",
       "│ 20  ┆ 21   ┆ Little Baby Bum - Nursery ┆ 40800000         ┆ 38840192263  ┆ 2287        ┆ Education ┆ 2011            │\n",
       "│     ┆      ┆ Rhymes…                   ┆                  ┆              ┆             ┆           ┆                 │\n",
       "│ 22  ┆ 23   ┆ Pinkfong Baby Shark -     ┆ 65700000         ┆ 36688824621  ┆ 2647        ┆ Education ┆ 2011            │\n",
       "│     ┆      ┆ Kids' Song…               ┆                  ┆              ┆             ┆           ┆                 │\n",
       "└─────┴──────┴───────────────────────────┴──────────────────┴──────────────┴─────────────┴───────────┴─────────────────┘"
      ]
     },
     "execution_count": 23,
     "metadata": {},
     "output_type": "execute_result"
    }
   ],
   "source": [
    "dataframe.filter(\n",
    "    pl.col('Genre') == \"Education\"\n",
    ").head()"
   ]
  },
  {
   "cell_type": "markdown",
   "id": "a22c48f5",
   "metadata": {},
   "source": [
    "## Selecionando colunas em específico"
   ]
  },
  {
   "cell_type": "code",
   "execution_count": 24,
   "id": "f56abf32",
   "metadata": {},
   "outputs": [
    {
     "data": {
      "text/html": [
       "<div><style>\n",
       ".dataframe > thead > tr > th,\n",
       ".dataframe > tbody > tr > td {\n",
       "  text-align: right;\n",
       "}\n",
       "</style>\n",
       "<small>shape: (296,)</small><table border=\"1\" class=\"dataframe\"><thead><tr><th>Channel_Started</th></tr><tr><td>i64</td></tr></thead><tbody><tr><td>2006</td></tr><tr><td>2006</td></tr><tr><td>2006</td></tr><tr><td>2007</td></tr><tr><td>2015</td></tr><tr><td>2016</td></tr><tr><td>2007</td></tr><tr><td>2018</td></tr><tr><td>2006</td></tr><tr><td>2008</td></tr><tr><td>2014</td></tr><tr><td>2011</td></tr><tr><td>&hellip;</td></tr><tr><td>2012</td></tr><tr><td>2010</td></tr><tr><td>2009</td></tr><tr><td>2011</td></tr><tr><td>2005</td></tr><tr><td>2012</td></tr><tr><td>2014</td></tr><tr><td>2012</td></tr><tr><td>2010</td></tr><tr><td>2012</td></tr><tr><td>2013</td></tr><tr><td>2007</td></tr></tbody></table></div>"
      ],
      "text/plain": [
       "shape: (296,)\n",
       "Series: 'Channel_Started' [i64]\n",
       "[\n",
       "\t2006\n",
       "\t2006\n",
       "\t2006\n",
       "\t2007\n",
       "\t2015\n",
       "\t2016\n",
       "\t2007\n",
       "\t2018\n",
       "\t2006\n",
       "\t2008\n",
       "\t2014\n",
       "\t2011\n",
       "\t…\n",
       "\t2018\n",
       "\t2012\n",
       "\t2010\n",
       "\t2009\n",
       "\t2011\n",
       "\t2005\n",
       "\t2012\n",
       "\t2014\n",
       "\t2012\n",
       "\t2010\n",
       "\t2012\n",
       "\t2013\n",
       "\t2007\n",
       "]"
      ]
     },
     "execution_count": 24,
     "metadata": {},
     "output_type": "execute_result"
    }
   ],
   "source": [
    "dataframe['Channel_Started'] # igual ao pandas"
   ]
  },
  {
   "cell_type": "code",
   "execution_count": 25,
   "id": "0de3bc26",
   "metadata": {},
   "outputs": [
    {
     "ename": "AttributeError",
     "evalue": "'DataFrame' object has no attribute 'Channel_Started'",
     "output_type": "error",
     "traceback": [
      "\u001b[1;31m---------------------------------------------------------------------------\u001b[0m",
      "\u001b[1;31mAttributeError\u001b[0m                            Traceback (most recent call last)",
      "\u001b[1;32m~\\AppData\\Local\\Temp\\ipykernel_6560\\537438993.py\u001b[0m in \u001b[0;36m<module>\u001b[1;34m\u001b[0m\n\u001b[1;32m----> 1\u001b[1;33m \u001b[0mdataframe\u001b[0m\u001b[1;33m.\u001b[0m\u001b[0mChannel_Started\u001b[0m \u001b[1;31m# diferente do pandas\u001b[0m\u001b[1;33m\u001b[0m\u001b[1;33m\u001b[0m\u001b[0m\n\u001b[0m",
      "\u001b[1;32mD:\\Apps\\Anaconda\\lib\\site-packages\\polars\\utils\\decorators.py\u001b[0m in \u001b[0;36m_redirecting_getattr_\u001b[1;34m(obj, item)\u001b[0m\n\u001b[0;32m    167\u001b[0m             )\n\u001b[0;32m    168\u001b[0m             \u001b[0mitem\u001b[0m \u001b[1;33m=\u001b[0m \u001b[0mnew_item\u001b[0m\u001b[1;33m\u001b[0m\u001b[1;33m\u001b[0m\u001b[0m\n\u001b[1;32m--> 169\u001b[1;33m         \u001b[1;32mreturn\u001b[0m \u001b[0mobj\u001b[0m\u001b[1;33m.\u001b[0m\u001b[0m__getattribute__\u001b[0m\u001b[1;33m(\u001b[0m\u001b[0mitem\u001b[0m\u001b[1;33m)\u001b[0m\u001b[1;33m\u001b[0m\u001b[1;33m\u001b[0m\u001b[0m\n\u001b[0m\u001b[0;32m    170\u001b[0m \u001b[1;33m\u001b[0m\u001b[0m\n\u001b[0;32m    171\u001b[0m     \u001b[1;32mdef\u001b[0m \u001b[0m_cls_\u001b[0m\u001b[1;33m(\u001b[0m\u001b[0mcls\u001b[0m\u001b[1;33m:\u001b[0m \u001b[0mtype\u001b[0m\u001b[1;33m[\u001b[0m\u001b[0mT\u001b[0m\u001b[1;33m]\u001b[0m\u001b[1;33m)\u001b[0m \u001b[1;33m->\u001b[0m \u001b[0mtype\u001b[0m\u001b[1;33m[\u001b[0m\u001b[0mT\u001b[0m\u001b[1;33m]\u001b[0m\u001b[1;33m:\u001b[0m\u001b[1;33m\u001b[0m\u001b[1;33m\u001b[0m\u001b[0m\n",
      "\u001b[1;31mAttributeError\u001b[0m: 'DataFrame' object has no attribute 'Channel_Started'"
     ]
    }
   ],
   "source": [
    "dataframe.Channel_Started # diferente do pandas"
   ]
  },
  {
   "cell_type": "markdown",
   "id": "7e4e5e0c",
   "metadata": {},
   "source": [
    "No pandas, fazemos:\n",
    "\n",
    "    dataframe[dataframe.Genre == \"Education\"]['Channel_Started'].head()"
   ]
  },
  {
   "cell_type": "code",
   "execution_count": 26,
   "id": "2e4eb3c9",
   "metadata": {},
   "outputs": [
    {
     "data": {
      "text/html": [
       "<div><style>\n",
       ".dataframe > thead > tr > th,\n",
       ".dataframe > tbody > tr > td {\n",
       "  text-align: right;\n",
       "}\n",
       "</style>\n",
       "<small>shape: (5, 1)</small><table border=\"1\" class=\"dataframe\"><thead><tr><th>Channel_Started</th></tr><tr><td>i64</td></tr></thead><tbody><tr><td>2006</td></tr><tr><td>2013</td></tr><tr><td>2006</td></tr><tr><td>2011</td></tr><tr><td>2011</td></tr></tbody></table></div>"
      ],
      "text/plain": [
       "shape: (5, 1)\n",
       "┌─────────────────┐\n",
       "│ Channel_Started │\n",
       "│ ---             │\n",
       "│ i64             │\n",
       "╞═════════════════╡\n",
       "│ 2006            │\n",
       "│ 2013            │\n",
       "│ 2006            │\n",
       "│ 2011            │\n",
       "│ 2011            │\n",
       "└─────────────────┘"
      ]
     },
     "execution_count": 26,
     "metadata": {},
     "output_type": "execute_result"
    }
   ],
   "source": [
    "dataframe.filter(\n",
    "    pl.col('Genre') == \"Education\"\n",
    ").select('Channel_Started').head()"
   ]
  },
  {
   "cell_type": "markdown",
   "id": "e7101adb",
   "metadata": {},
   "source": [
    "No pandas, fazemos:\n",
    "\n",
    "    dataframe[['Channel_Started', 'Subscriber_Count', 'Genre']].head()"
   ]
  },
  {
   "cell_type": "code",
   "execution_count": 28,
   "id": "adf77694",
   "metadata": {},
   "outputs": [
    {
     "data": {
      "text/html": [
       "<div><style>\n",
       ".dataframe > thead > tr > th,\n",
       ".dataframe > tbody > tr > td {\n",
       "  text-align: right;\n",
       "}\n",
       "</style>\n",
       "<small>shape: (5, 3)</small><table border=\"1\" class=\"dataframe\"><thead><tr><th>Channel_Name</th><th>Subscriber_Count</th><th>Genre</th></tr><tr><td>str</td><td>i64</td><td>str</td></tr></thead><tbody><tr><td>&quot;T-Series&quot;</td><td>237000000</td><td>&quot;Music&quot;</td></tr><tr><td>&quot;Cocomelon - Nu...</td><td>154000000</td><td>&quot;Education&quot;</td></tr><tr><td>&quot;SET India&quot;</td><td>152000000</td><td>&quot;Film &amp; Animati...</td></tr><tr><td>&quot;Sony SAB&quot;</td><td>77500000</td><td>&quot;Film &amp; Animati...</td></tr><tr><td>&quot;✿ Kids Diana S...</td><td>108000000</td><td>&quot;People &amp; Blogs...</td></tr></tbody></table></div>"
      ],
      "text/plain": [
       "shape: (5, 3)\n",
       "┌────────────────────────────┬──────────────────┬──────────────────┐\n",
       "│ Channel_Name               ┆ Subscriber_Count ┆ Genre            │\n",
       "│ ---                        ┆ ---              ┆ ---              │\n",
       "│ str                        ┆ i64              ┆ str              │\n",
       "╞════════════════════════════╪══════════════════╪══════════════════╡\n",
       "│ T-Series                   ┆ 237000000        ┆ Music            │\n",
       "│ Cocomelon - Nursery Rhymes ┆ 154000000        ┆ Education        │\n",
       "│ SET India                  ┆ 152000000        ┆ Film & Animation │\n",
       "│ Sony SAB                   ┆ 77500000         ┆ Film & Animation │\n",
       "│ ✿ Kids Diana Show          ┆ 108000000        ┆ People & Blogs   │\n",
       "└────────────────────────────┴──────────────────┴──────────────────┘"
      ]
     },
     "execution_count": 28,
     "metadata": {},
     "output_type": "execute_result"
    }
   ],
   "source": [
    "(dataframe\n",
    "    .select(pl.col(['Channel_Name', 'Subscriber_Count', 'Genre']))\n",
    "    .head(5))"
   ]
  },
  {
   "cell_type": "code",
   "execution_count": 27,
   "id": "2e0ef082",
   "metadata": {},
   "outputs": [
    {
     "data": {
      "text/html": [
       "<div><style>\n",
       ".dataframe > thead > tr > th,\n",
       ".dataframe > tbody > tr > td {\n",
       "  text-align: right;\n",
       "}\n",
       "</style>\n",
       "<small>shape: (296, 3)</small><table border=\"1\" class=\"dataframe\"><thead><tr><th>Channel_Started</th><th>Subscriber_Count</th><th>Genre</th></tr><tr><td>i64</td><td>i64</td><td>str</td></tr></thead><tbody><tr><td>2006</td><td>237000000</td><td>&quot;Music&quot;</td></tr><tr><td>2006</td><td>154000000</td><td>&quot;Education&quot;</td></tr><tr><td>2006</td><td>152000000</td><td>&quot;Film &amp; Animati...</td></tr><tr><td>2007</td><td>77500000</td><td>&quot;Film &amp; Animati...</td></tr><tr><td>2015</td><td>108000000</td><td>&quot;People &amp; Blogs...</td></tr><tr><td>2016</td><td>104000000</td><td>&quot;People &amp; Blogs...</td></tr><tr><td>2007</td><td>93500000</td><td>&quot;Sports&quot;</td></tr><tr><td>2018</td><td>93900000</td><td>&quot;Entertainment&quot;</td></tr><tr><td>2006</td><td>58700000</td><td>&quot;Film &amp; Animati...</td></tr><tr><td>2008</td><td>60200000</td><td>&quot;Film &amp; Animati...</td></tr><tr><td>2014</td><td>92800000</td><td>&quot;Music&quot;</td></tr><tr><td>2011</td><td>55600000</td><td>&quot;Music&quot;</td></tr><tr><td>&hellip;</td><td>&hellip;</td><td>&hellip;</td></tr><tr><td>2012</td><td>35500000</td><td>&quot;People &amp; Blogs...</td></tr><tr><td>2010</td><td>15800000</td><td>&quot;Entertainment&quot;</td></tr><tr><td>2009</td><td>8080000</td><td>&quot;Music&quot;</td></tr><tr><td>2011</td><td>9840000</td><td>&quot;Gaming&quot;</td></tr><tr><td>2005</td><td>19900000</td><td>&quot;Sports&quot;</td></tr><tr><td>2012</td><td>11100000</td><td>&quot;Music&quot;</td></tr><tr><td>2014</td><td>12100000</td><td>&quot;Entertainment&quot;</td></tr><tr><td>2012</td><td>15000000</td><td>&quot;Entertainment&quot;</td></tr><tr><td>2010</td><td>11300000</td><td>&quot;Entertainment&quot;</td></tr><tr><td>2012</td><td>7580000</td><td>&quot;Entertainment&quot;</td></tr><tr><td>2013</td><td>9040000</td><td>&quot;Entertainment&quot;</td></tr><tr><td>2007</td><td>12900000</td><td>&quot;News &amp; Politic...</td></tr></tbody></table></div>"
      ],
      "text/plain": [
       "shape: (296, 3)\n",
       "┌─────────────────┬──────────────────┬──────────────────┐\n",
       "│ Channel_Started ┆ Subscriber_Count ┆ Genre            │\n",
       "│ ---             ┆ ---              ┆ ---              │\n",
       "│ i64             ┆ i64              ┆ str              │\n",
       "╞═════════════════╪══════════════════╪══════════════════╡\n",
       "│ 2006            ┆ 237000000        ┆ Music            │\n",
       "│ 2006            ┆ 154000000        ┆ Education        │\n",
       "│ 2006            ┆ 152000000        ┆ Film & Animation │\n",
       "│ 2007            ┆ 77500000         ┆ Film & Animation │\n",
       "│ …               ┆ …                ┆ …                │\n",
       "│ 2010            ┆ 11300000         ┆ Entertainment    │\n",
       "│ 2012            ┆ 7580000          ┆ Entertainment    │\n",
       "│ 2013            ┆ 9040000          ┆ Entertainment    │\n",
       "│ 2007            ┆ 12900000         ┆ News & Politics  │\n",
       "└─────────────────┴──────────────────┴──────────────────┘"
      ]
     },
     "execution_count": 27,
     "metadata": {},
     "output_type": "execute_result"
    }
   ],
   "source": [
    "dataframe[['Channel_Started', 'Subscriber_Count', 'Genre']] # igual ao pandas"
   ]
  },
  {
   "cell_type": "markdown",
   "id": "76201300",
   "metadata": {},
   "source": [
    "## Selecionando pelo Index"
   ]
  },
  {
   "cell_type": "code",
   "execution_count": 29,
   "id": "94c8e193",
   "metadata": {},
   "outputs": [
    {
     "data": {
      "text/html": [
       "<div><style>\n",
       ".dataframe > thead > tr > th,\n",
       ".dataframe > tbody > tr > td {\n",
       "  text-align: right;\n",
       "}\n",
       "</style>\n",
       "<small>shape: (296,)</small><table border=\"1\" class=\"dataframe\"><thead><tr><th></th></tr><tr><td>i64</td></tr></thead><tbody><tr><td>0</td></tr><tr><td>1</td></tr><tr><td>2</td></tr><tr><td>3</td></tr><tr><td>4</td></tr><tr><td>5</td></tr><tr><td>6</td></tr><tr><td>7</td></tr><tr><td>8</td></tr><tr><td>9</td></tr><tr><td>10</td></tr><tr><td>11</td></tr><tr><td>&hellip;</td></tr><tr><td>288</td></tr><tr><td>289</td></tr><tr><td>290</td></tr><tr><td>291</td></tr><tr><td>292</td></tr><tr><td>293</td></tr><tr><td>294</td></tr><tr><td>295</td></tr><tr><td>296</td></tr><tr><td>297</td></tr><tr><td>298</td></tr><tr><td>299</td></tr></tbody></table></div>"
      ],
      "text/plain": [
       "shape: (296,)\n",
       "Series: '' [i64]\n",
       "[\n",
       "\t0\n",
       "\t1\n",
       "\t2\n",
       "\t3\n",
       "\t4\n",
       "\t5\n",
       "\t6\n",
       "\t7\n",
       "\t8\n",
       "\t9\n",
       "\t10\n",
       "\t11\n",
       "\t…\n",
       "\t287\n",
       "\t288\n",
       "\t289\n",
       "\t290\n",
       "\t291\n",
       "\t292\n",
       "\t293\n",
       "\t294\n",
       "\t295\n",
       "\t296\n",
       "\t297\n",
       "\t298\n",
       "\t299\n",
       "]"
      ]
     },
     "execution_count": 29,
     "metadata": {},
     "output_type": "execute_result"
    }
   ],
   "source": [
    "dataframe[:, 0]"
   ]
  },
  {
   "cell_type": "code",
   "execution_count": 30,
   "id": "d5f1d9d7",
   "metadata": {},
   "outputs": [
    {
     "data": {
      "text/html": [
       "<div><style>\n",
       ".dataframe > thead > tr > th,\n",
       ".dataframe > tbody > tr > td {\n",
       "  text-align: right;\n",
       "}\n",
       "</style>\n",
       "<small>shape: (296, 3)</small><table border=\"1\" class=\"dataframe\"><thead><tr><th></th><th>Rank</th><th>Channel_Name</th></tr><tr><td>i64</td><td>i64</td><td>str</td></tr></thead><tbody><tr><td>0</td><td>1</td><td>&quot;T-Series&quot;</td></tr><tr><td>1</td><td>2</td><td>&quot;Cocomelon - Nu...</td></tr><tr><td>2</td><td>3</td><td>&quot;SET India&quot;</td></tr><tr><td>3</td><td>4</td><td>&quot;Sony SAB&quot;</td></tr><tr><td>4</td><td>5</td><td>&quot;✿ Kids Diana S...</td></tr><tr><td>5</td><td>6</td><td>&quot;Like Nastya&quot;</td></tr><tr><td>6</td><td>7</td><td>&quot;WWE&quot;</td></tr><tr><td>7</td><td>8</td><td>&quot;Vlad and Niki&quot;</td></tr><tr><td>8</td><td>9</td><td>&quot;Movieclips&quot;</td></tr><tr><td>9</td><td>10</td><td>&quot;Colors TV&quot;</td></tr><tr><td>10</td><td>11</td><td>&quot;Zee Music Comp...</td></tr><tr><td>11</td><td>12</td><td>&quot;El Reino Infan...</td></tr><tr><td>&hellip;</td><td>&hellip;</td><td>&hellip;</td></tr><tr><td>288</td><td>289</td><td>&quot;ABP NEWS&quot;</td></tr><tr><td>289</td><td>290</td><td>&quot;GMMTV OFFICIAL...</td></tr><tr><td>290</td><td>291</td><td>&quot;michaeljackson...</td></tr><tr><td>291</td><td>292</td><td>&quot;ItsFunneh&quot;</td></tr><tr><td>292</td><td>293</td><td>&quot;NBA&quot;</td></tr><tr><td>293</td><td>294</td><td>&quot;ChainsmokersVE...</td></tr><tr><td>294</td><td>295</td><td>&quot;eltrece&quot;</td></tr><tr><td>295</td><td>296</td><td>&quot;Jake Fellman&quot;</td></tr><tr><td>296</td><td>297</td><td>&quot;DisneyJuniorUK...</td></tr><tr><td>297</td><td>298</td><td>&quot;JTBC Entertain...</td></tr><tr><td>298</td><td>299</td><td>&quot;Mnet TV&quot;</td></tr><tr><td>299</td><td>300</td><td>&quot;GMA News&quot;</td></tr></tbody></table></div>"
      ],
      "text/plain": [
       "shape: (296, 3)\n",
       "┌─────┬──────┬────────────────────────────┐\n",
       "│     ┆ Rank ┆ Channel_Name               │\n",
       "│ --- ┆ ---  ┆ ---                        │\n",
       "│ i64 ┆ i64  ┆ str                        │\n",
       "╞═════╪══════╪════════════════════════════╡\n",
       "│ 0   ┆ 1    ┆ T-Series                   │\n",
       "│ 1   ┆ 2    ┆ Cocomelon - Nursery Rhymes │\n",
       "│ 2   ┆ 3    ┆ SET India                  │\n",
       "│ 3   ┆ 4    ┆ Sony SAB                   │\n",
       "│ …   ┆ …    ┆ …                          │\n",
       "│ 296 ┆ 297  ┆ DisneyJuniorUK             │\n",
       "│ 297 ┆ 298  ┆ JTBC Entertainment         │\n",
       "│ 298 ┆ 299  ┆ Mnet TV                    │\n",
       "│ 299 ┆ 300  ┆ GMA News                   │\n",
       "└─────┴──────┴────────────────────────────┘"
      ]
     },
     "execution_count": 30,
     "metadata": {},
     "output_type": "execute_result"
    }
   ],
   "source": [
    "dataframe[:, 0:3]"
   ]
  },
  {
   "cell_type": "markdown",
   "id": "a6aa9d20",
   "metadata": {},
   "source": [
    "## Aprofundado filtros\n",
    "\n",
    "No pandas, fazemos:\n",
    "\n",
    "    dataframe[dataframe.Subscriber_Count > 10000].head()"
   ]
  },
  {
   "cell_type": "code",
   "execution_count": 31,
   "id": "96504f88",
   "metadata": {},
   "outputs": [
    {
     "data": {
      "text/html": [
       "<div><style>\n",
       ".dataframe > thead > tr > th,\n",
       ".dataframe > tbody > tr > td {\n",
       "  text-align: right;\n",
       "}\n",
       "</style>\n",
       "<small>shape: (3, 8)</small><table border=\"1\" class=\"dataframe\"><thead><tr><th></th><th>Rank</th><th>Channel_Name</th><th>Subscriber_Count</th><th>Video_Views</th><th>Video_Count</th><th>Genre</th><th>Channel_Started</th></tr><tr><td>i64</td><td>i64</td><td>str</td><td>i64</td><td>i64</td><td>i64</td><td>str</td><td>i64</td></tr></thead><tbody><tr><td>0</td><td>1</td><td>&quot;T-Series&quot;</td><td>237000000</td><td>216495600668</td><td>18831</td><td>&quot;Music&quot;</td><td>2006</td></tr><tr><td>1</td><td>2</td><td>&quot;Cocomelon - Nu...</td><td>154000000</td><td>152638999634</td><td>861</td><td>&quot;Education&quot;</td><td>2006</td></tr><tr><td>2</td><td>3</td><td>&quot;SET India&quot;</td><td>152000000</td><td>140138068504</td><td>105649</td><td>&quot;Film &amp; Animati...</td><td>2006</td></tr></tbody></table></div>"
      ],
      "text/plain": [
       "shape: (3, 8)\n",
       "┌─────┬──────┬────────────────┬──────────────────┬──────────────┬─────────────┬──────────────────┬─────────────────┐\n",
       "│     ┆ Rank ┆ Channel_Name   ┆ Subscriber_Count ┆ Video_Views  ┆ Video_Count ┆ Genre            ┆ Channel_Started │\n",
       "│ --- ┆ ---  ┆ ---            ┆ ---              ┆ ---          ┆ ---         ┆ ---              ┆ ---             │\n",
       "│ i64 ┆ i64  ┆ str            ┆ i64              ┆ i64          ┆ i64         ┆ str              ┆ i64             │\n",
       "╞═════╪══════╪════════════════╪══════════════════╪══════════════╪═════════════╪══════════════════╪═════════════════╡\n",
       "│ 0   ┆ 1    ┆ T-Series       ┆ 237000000        ┆ 216495600668 ┆ 18831       ┆ Music            ┆ 2006            │\n",
       "│ 1   ┆ 2    ┆ Cocomelon -    ┆ 154000000        ┆ 152638999634 ┆ 861         ┆ Education        ┆ 2006            │\n",
       "│     ┆      ┆ Nursery Rhymes ┆                  ┆              ┆             ┆                  ┆                 │\n",
       "│ 2   ┆ 3    ┆ SET India      ┆ 152000000        ┆ 140138068504 ┆ 105649      ┆ Film & Animation ┆ 2006            │\n",
       "└─────┴──────┴────────────────┴──────────────────┴──────────────┴─────────────┴──────────────────┴─────────────────┘"
      ]
     },
     "execution_count": 31,
     "metadata": {},
     "output_type": "execute_result"
    }
   ],
   "source": [
    "(dataframe\n",
    "    .filter(pl.col('Subscriber_Count') > 10000)\n",
    "    .head(3)\n",
    ")"
   ]
  },
  {
   "cell_type": "markdown",
   "id": "2d1452dd",
   "metadata": {},
   "source": [
    "No pandas, fazemos:\n",
    "\n",
    "    dataframe[dataframe.Subscriber_Count.between(1000000, 20000000)].head()"
   ]
  },
  {
   "cell_type": "code",
   "execution_count": 32,
   "id": "3aeee9aa",
   "metadata": {},
   "outputs": [
    {
     "data": {
      "text/html": [
       "<div><style>\n",
       ".dataframe > thead > tr > th,\n",
       ".dataframe > tbody > tr > td {\n",
       "  text-align: right;\n",
       "}\n",
       "</style>\n",
       "<small>shape: (3, 8)</small><table border=\"1\" class=\"dataframe\"><thead><tr><th></th><th>Rank</th><th>Channel_Name</th><th>Subscriber_Count</th><th>Video_Views</th><th>Video_Count</th><th>Genre</th><th>Channel_Started</th></tr><tr><td>i64</td><td>i64</td><td>str</td><td>i64</td><td>i64</td><td>i64</td><td>str</td><td>i64</td></tr></thead><tbody><tr><td>51</td><td>52</td><td>&quot;Tsuriki Show&quot;</td><td>18300000</td><td>26198962430</td><td>2299</td><td>&quot;Entertainment&quot;</td><td>2019</td></tr><tr><td>61</td><td>62</td><td>&quot;Vijay Televisi...</td><td>19000000</td><td>24990083268</td><td>40319</td><td>&quot;Entertainment&quot;</td><td>2007</td></tr><tr><td>67</td><td>68</td><td>&quot;shakiraVEVO&quot;</td><td>18400000</td><td>24083534504</td><td>194</td><td>&quot;Music&quot;</td><td>2009</td></tr></tbody></table></div>"
      ],
      "text/plain": [
       "shape: (3, 8)\n",
       "┌─────┬──────┬──────────────────┬──────────────────┬─────────────┬─────────────┬───────────────┬─────────────────┐\n",
       "│     ┆ Rank ┆ Channel_Name     ┆ Subscriber_Count ┆ Video_Views ┆ Video_Count ┆ Genre         ┆ Channel_Started │\n",
       "│ --- ┆ ---  ┆ ---              ┆ ---              ┆ ---         ┆ ---         ┆ ---           ┆ ---             │\n",
       "│ i64 ┆ i64  ┆ str              ┆ i64              ┆ i64         ┆ i64         ┆ str           ┆ i64             │\n",
       "╞═════╪══════╪══════════════════╪══════════════════╪═════════════╪═════════════╪═══════════════╪═════════════════╡\n",
       "│ 51  ┆ 52   ┆ Tsuriki Show     ┆ 18300000         ┆ 26198962430 ┆ 2299        ┆ Entertainment ┆ 2019            │\n",
       "│ 61  ┆ 62   ┆ Vijay Television ┆ 19000000         ┆ 24990083268 ┆ 40319       ┆ Entertainment ┆ 2007            │\n",
       "│ 67  ┆ 68   ┆ shakiraVEVO      ┆ 18400000         ┆ 24083534504 ┆ 194         ┆ Music         ┆ 2009            │\n",
       "└─────┴──────┴──────────────────┴──────────────────┴─────────────┴─────────────┴───────────────┴─────────────────┘"
      ]
     },
     "execution_count": 32,
     "metadata": {},
     "output_type": "execute_result"
    }
   ],
   "source": [
    "(dataframe\n",
    "    .filter(pl.col('Subscriber_Count').is_between(1000000, 20000000))\\\n",
    "    .head(3)\n",
    ")"
   ]
  },
  {
   "cell_type": "markdown",
   "id": "4fde6b4f",
   "metadata": {},
   "source": [
    "No pandas, fazemos:\n",
    "\n",
    "    dataframe[(dataframe.Subscriber_Count < 10000) & (dataframe.Genre == \"Music\")].head()"
   ]
  },
  {
   "cell_type": "code",
   "execution_count": 33,
   "id": "2ad2eb51",
   "metadata": {},
   "outputs": [
    {
     "data": {
      "text/html": [
       "<div><style>\n",
       ".dataframe > thead > tr > th,\n",
       ".dataframe > tbody > tr > td {\n",
       "  text-align: right;\n",
       "}\n",
       "</style>\n",
       "<small>shape: (3, 8)</small><table border=\"1\" class=\"dataframe\"><thead><tr><th></th><th>Rank</th><th>Channel_Name</th><th>Subscriber_Count</th><th>Video_Views</th><th>Video_Count</th><th>Genre</th><th>Channel_Started</th></tr><tr><td>i64</td><td>i64</td><td>str</td><td>i64</td><td>i64</td><td>i64</td><td>str</td><td>i64</td></tr></thead><tbody><tr><td>10</td><td>11</td><td>&quot;Zee Music Comp...</td><td>92800000</td><td>54295114324</td><td>7768</td><td>&quot;Music&quot;</td><td>2014</td></tr><tr><td>11</td><td>12</td><td>&quot;El Reino Infan...</td><td>55600000</td><td>54151900416</td><td>1434</td><td>&quot;Music&quot;</td><td>2011</td></tr><tr><td>21</td><td>22</td><td>&quot;Canal KondZill...</td><td>66400000</td><td>37297721449</td><td>2393</td><td>&quot;Music&quot;</td><td>2012</td></tr></tbody></table></div>"
      ],
      "text/plain": [
       "shape: (3, 8)\n",
       "┌─────┬──────┬───────────────────┬──────────────────┬─────────────┬─────────────┬───────┬─────────────────┐\n",
       "│     ┆ Rank ┆ Channel_Name      ┆ Subscriber_Count ┆ Video_Views ┆ Video_Count ┆ Genre ┆ Channel_Started │\n",
       "│ --- ┆ ---  ┆ ---               ┆ ---              ┆ ---         ┆ ---         ┆ ---   ┆ ---             │\n",
       "│ i64 ┆ i64  ┆ str               ┆ i64              ┆ i64         ┆ i64         ┆ str   ┆ i64             │\n",
       "╞═════╪══════╪═══════════════════╪══════════════════╪═════════════╪═════════════╪═══════╪═════════════════╡\n",
       "│ 10  ┆ 11   ┆ Zee Music Company ┆ 92800000         ┆ 54295114324 ┆ 7768        ┆ Music ┆ 2014            │\n",
       "│ 11  ┆ 12   ┆ El Reino Infantil ┆ 55600000         ┆ 54151900416 ┆ 1434        ┆ Music ┆ 2011            │\n",
       "│ 21  ┆ 22   ┆ Canal KondZilla   ┆ 66400000         ┆ 37297721449 ┆ 2393        ┆ Music ┆ 2012            │\n",
       "└─────┴──────┴───────────────────┴──────────────────┴─────────────┴─────────────┴───────┴─────────────────┘"
      ]
     },
     "execution_count": 33,
     "metadata": {},
     "output_type": "execute_result"
    }
   ],
   "source": [
    "(dataframe\n",
    "    .filter((pl.col('Video_Count') < 10000) & (pl.col('Genre') == \"Music\"))\\\n",
    "    .head(3)\n",
    ")"
   ]
  },
  {
   "cell_type": "markdown",
   "id": "ca84f344",
   "metadata": {},
   "source": [
    "No pandas, fazemos:\n",
    "\n",
    "    dataframe[dataframe.Genre.is_in([\"Music\", \"Entertainment\"])].head()"
   ]
  },
  {
   "cell_type": "code",
   "execution_count": 34,
   "id": "5aac9bec",
   "metadata": {},
   "outputs": [
    {
     "data": {
      "text/html": [
       "<div><style>\n",
       ".dataframe > thead > tr > th,\n",
       ".dataframe > tbody > tr > td {\n",
       "  text-align: right;\n",
       "}\n",
       "</style>\n",
       "<small>shape: (3, 8)</small><table border=\"1\" class=\"dataframe\"><thead><tr><th></th><th>Rank</th><th>Channel_Name</th><th>Subscriber_Count</th><th>Video_Views</th><th>Video_Count</th><th>Genre</th><th>Channel_Started</th></tr><tr><td>i64</td><td>i64</td><td>str</td><td>i64</td><td>i64</td><td>i64</td><td>str</td><td>i64</td></tr></thead><tbody><tr><td>0</td><td>1</td><td>&quot;T-Series&quot;</td><td>237000000</td><td>216495600668</td><td>18831</td><td>&quot;Music&quot;</td><td>2006</td></tr><tr><td>7</td><td>8</td><td>&quot;Vlad and Niki&quot;</td><td>93900000</td><td>73333582362</td><td>530</td><td>&quot;Entertainment&quot;</td><td>2018</td></tr><tr><td>10</td><td>11</td><td>&quot;Zee Music Comp...</td><td>92800000</td><td>54295114324</td><td>7768</td><td>&quot;Music&quot;</td><td>2014</td></tr></tbody></table></div>"
      ],
      "text/plain": [
       "shape: (3, 8)\n",
       "┌─────┬──────┬───────────────────┬──────────────────┬──────────────┬─────────────┬───────────────┬─────────────────┐\n",
       "│     ┆ Rank ┆ Channel_Name      ┆ Subscriber_Count ┆ Video_Views  ┆ Video_Count ┆ Genre         ┆ Channel_Started │\n",
       "│ --- ┆ ---  ┆ ---               ┆ ---              ┆ ---          ┆ ---         ┆ ---           ┆ ---             │\n",
       "│ i64 ┆ i64  ┆ str               ┆ i64              ┆ i64          ┆ i64         ┆ str           ┆ i64             │\n",
       "╞═════╪══════╪═══════════════════╪══════════════════╪══════════════╪═════════════╪═══════════════╪═════════════════╡\n",
       "│ 0   ┆ 1    ┆ T-Series          ┆ 237000000        ┆ 216495600668 ┆ 18831       ┆ Music         ┆ 2006            │\n",
       "│ 7   ┆ 8    ┆ Vlad and Niki     ┆ 93900000         ┆ 73333582362  ┆ 530         ┆ Entertainment ┆ 2018            │\n",
       "│ 10  ┆ 11   ┆ Zee Music Company ┆ 92800000         ┆ 54295114324  ┆ 7768        ┆ Music         ┆ 2014            │\n",
       "└─────┴──────┴───────────────────┴──────────────────┴──────────────┴─────────────┴───────────────┴─────────────────┘"
      ]
     },
     "execution_count": 34,
     "metadata": {},
     "output_type": "execute_result"
    }
   ],
   "source": [
    "(dataframe\n",
    "    .filter(pl.col('Genre').is_in([\"Music\", \"Entertainment\"]))\n",
    "    .head(3)\n",
    ")"
   ]
  },
  {
   "cell_type": "markdown",
   "id": "b79aecc3",
   "metadata": {},
   "source": [
    "No pandas, fazemos:\n",
    "\n",
    "    dataframe[dataframe.Channel_Name.str.contains(\"Music\")].head()"
   ]
  },
  {
   "cell_type": "code",
   "execution_count": 35,
   "id": "69712cd8",
   "metadata": {},
   "outputs": [
    {
     "data": {
      "text/html": [
       "<div><style>\n",
       ".dataframe > thead > tr > th,\n",
       ".dataframe > tbody > tr > td {\n",
       "  text-align: right;\n",
       "}\n",
       "</style>\n",
       "<small>shape: (3, 8)</small><table border=\"1\" class=\"dataframe\"><thead><tr><th></th><th>Rank</th><th>Channel_Name</th><th>Subscriber_Count</th><th>Video_Views</th><th>Video_Count</th><th>Genre</th><th>Channel_Started</th></tr><tr><td>i64</td><td>i64</td><td>str</td><td>i64</td><td>i64</td><td>i64</td><td>str</td><td>i64</td></tr></thead><tbody><tr><td>10</td><td>11</td><td>&quot;Zee Music Comp...</td><td>92800000</td><td>54295114324</td><td>7768</td><td>&quot;Music&quot;</td><td>2014</td></tr><tr><td>19</td><td>20</td><td>&quot;Wave Music&quot;</td><td>56300000</td><td>39258909308</td><td>19031</td><td>&quot;Music&quot;</td><td>2014</td></tr><tr><td>42</td><td>43</td><td>&quot;Sony Music Ind...</td><td>55900000</td><td>27598909527</td><td>3457</td><td>&quot;Music&quot;</td><td>2009</td></tr></tbody></table></div>"
      ],
      "text/plain": [
       "shape: (3, 8)\n",
       "┌─────┬──────┬───────────────────┬──────────────────┬─────────────┬─────────────┬───────┬─────────────────┐\n",
       "│     ┆ Rank ┆ Channel_Name      ┆ Subscriber_Count ┆ Video_Views ┆ Video_Count ┆ Genre ┆ Channel_Started │\n",
       "│ --- ┆ ---  ┆ ---               ┆ ---              ┆ ---         ┆ ---         ┆ ---   ┆ ---             │\n",
       "│ i64 ┆ i64  ┆ str               ┆ i64              ┆ i64         ┆ i64         ┆ str   ┆ i64             │\n",
       "╞═════╪══════╪═══════════════════╪══════════════════╪═════════════╪═════════════╪═══════╪═════════════════╡\n",
       "│ 10  ┆ 11   ┆ Zee Music Company ┆ 92800000         ┆ 54295114324 ┆ 7768        ┆ Music ┆ 2014            │\n",
       "│ 19  ┆ 20   ┆ Wave Music        ┆ 56300000         ┆ 39258909308 ┆ 19031       ┆ Music ┆ 2014            │\n",
       "│ 42  ┆ 43   ┆ Sony Music India  ┆ 55900000         ┆ 27598909527 ┆ 3457        ┆ Music ┆ 2009            │\n",
       "└─────┴──────┴───────────────────┴──────────────────┴─────────────┴─────────────┴───────┴─────────────────┘"
      ]
     },
     "execution_count": 35,
     "metadata": {},
     "output_type": "execute_result"
    }
   ],
   "source": [
    "(dataframe\n",
    "    .filter(pl.col('Channel_Name').str.contains(\"Music\"))\n",
    "    .head(3)\n",
    ")"
   ]
  },
  {
   "cell_type": "markdown",
   "id": "1b696c32",
   "metadata": {},
   "source": [
    "No pandas, fazemos:\n",
    "\n",
    "    dataframe[dataframe.Channel_Name.str.starts_with(\"Sony\")].head()"
   ]
  },
  {
   "cell_type": "code",
   "execution_count": 36,
   "id": "3b1e9f50",
   "metadata": {},
   "outputs": [
    {
     "data": {
      "text/html": [
       "<div><style>\n",
       ".dataframe > thead > tr > th,\n",
       ".dataframe > tbody > tr > td {\n",
       "  text-align: right;\n",
       "}\n",
       "</style>\n",
       "<small>shape: (6, 8)</small><table border=\"1\" class=\"dataframe\"><thead><tr><th></th><th>Rank</th><th>Channel_Name</th><th>Subscriber_Count</th><th>Video_Views</th><th>Video_Count</th><th>Genre</th><th>Channel_Started</th></tr><tr><td>i64</td><td>i64</td><td>str</td><td>i64</td><td>i64</td><td>i64</td><td>str</td><td>i64</td></tr></thead><tbody><tr><td>3</td><td>4</td><td>&quot;Sony SAB&quot;</td><td>77500000</td><td>92952274861</td><td>65028</td><td>&quot;Film &amp; Animati...</td><td>2007</td></tr><tr><td>42</td><td>43</td><td>&quot;Sony Music Ind...</td><td>55900000</td><td>27598909527</td><td>3457</td><td>&quot;Music&quot;</td><td>2009</td></tr><tr><td>49</td><td>50</td><td>&quot;Sony PAL&quot;</td><td>35900000</td><td>26412224144</td><td>22211</td><td>&quot;Film &amp; Animati...</td><td>2014</td></tr><tr><td>52</td><td>53</td><td>&quot;SonyMusicIndia...</td><td>45200000</td><td>26094337405</td><td>3369</td><td>&quot;Music&quot;</td><td>2009</td></tr><tr><td>145</td><td>146</td><td>&quot;SonyMusicSouth...</td><td>17400000</td><td>16774817862</td><td>5462</td><td>&quot;Music&quot;</td><td>2014</td></tr><tr><td>260</td><td>261</td><td>&quot;Sony AATH&quot;</td><td>18400000</td><td>12758281340</td><td>16954</td><td>&quot;Film &amp; Animati...</td><td>2013</td></tr></tbody></table></div>"
      ],
      "text/plain": [
       "shape: (6, 8)\n",
       "┌─────┬──────┬────────────────────┬──────────────────┬─────────────┬─────────────┬──────────────────┬─────────────────┐\n",
       "│     ┆ Rank ┆ Channel_Name       ┆ Subscriber_Count ┆ Video_Views ┆ Video_Count ┆ Genre            ┆ Channel_Started │\n",
       "│ --- ┆ ---  ┆ ---                ┆ ---              ┆ ---         ┆ ---         ┆ ---              ┆ ---             │\n",
       "│ i64 ┆ i64  ┆ str                ┆ i64              ┆ i64         ┆ i64         ┆ str              ┆ i64             │\n",
       "╞═════╪══════╪════════════════════╪══════════════════╪═════════════╪═════════════╪══════════════════╪═════════════════╡\n",
       "│ 3   ┆ 4    ┆ Sony SAB           ┆ 77500000         ┆ 92952274861 ┆ 65028       ┆ Film & Animation ┆ 2007            │\n",
       "│ 42  ┆ 43   ┆ Sony Music India   ┆ 55900000         ┆ 27598909527 ┆ 3457        ┆ Music            ┆ 2009            │\n",
       "│ 49  ┆ 50   ┆ Sony PAL           ┆ 35900000         ┆ 26412224144 ┆ 22211       ┆ Film & Animation ┆ 2014            │\n",
       "│ 52  ┆ 53   ┆ SonyMusicIndiaVEVO ┆ 45200000         ┆ 26094337405 ┆ 3369        ┆ Music            ┆ 2009            │\n",
       "│ 145 ┆ 146  ┆ SonyMusicSouthVEVO ┆ 17400000         ┆ 16774817862 ┆ 5462        ┆ Music            ┆ 2014            │\n",
       "│ 260 ┆ 261  ┆ Sony AATH          ┆ 18400000         ┆ 12758281340 ┆ 16954       ┆ Film & Animation ┆ 2013            │\n",
       "└─────┴──────┴────────────────────┴──────────────────┴─────────────┴─────────────┴──────────────────┴─────────────────┘"
      ]
     },
     "execution_count": 36,
     "metadata": {},
     "output_type": "execute_result"
    }
   ],
   "source": [
    "(dataframe\n",
    "    .filter(pl.col('Channel_Name').str.starts_with(\"Sony\"))\n",
    ")"
   ]
  },
  {
   "cell_type": "markdown",
   "id": "4dc8ebe7",
   "metadata": {},
   "source": [
    "No pandas, fazemos:\n",
    "\n",
    "    dataframe[dataframe.Channel_Name.str.ends_with(\"Music\")].head()"
   ]
  },
  {
   "cell_type": "code",
   "execution_count": 37,
   "id": "ad837ee0",
   "metadata": {},
   "outputs": [
    {
     "data": {
      "text/html": [
       "<div><style>\n",
       ".dataframe > thead > tr > th,\n",
       ".dataframe > tbody > tr > td {\n",
       "  text-align: right;\n",
       "}\n",
       "</style>\n",
       "<small>shape: (6, 8)</small><table border=\"1\" class=\"dataframe\"><thead><tr><th></th><th>Rank</th><th>Channel_Name</th><th>Subscriber_Count</th><th>Video_Views</th><th>Video_Count</th><th>Genre</th><th>Channel_Started</th></tr><tr><td>i64</td><td>i64</td><td>str</td><td>i64</td><td>i64</td><td>i64</td><td>str</td><td>i64</td></tr></thead><tbody><tr><td>19</td><td>20</td><td>&quot;Wave Music&quot;</td><td>56300000</td><td>39258909308</td><td>19031</td><td>&quot;Music&quot;</td><td>2014</td></tr><tr><td>56</td><td>57</td><td>&quot;EminemMusic&quot;</td><td>55400000</td><td>25713668530</td><td>140</td><td>&quot;Music&quot;</td><td>2007</td></tr><tr><td>65</td><td>66</td><td>&quot;Aditya Music&quot;</td><td>27600000</td><td>24574327626</td><td>21020</td><td>&quot;Music&quot;</td><td>2008</td></tr><tr><td>134</td><td>135</td><td>&quot;Eros Now Music...</td><td>32100000</td><td>17427689200</td><td>9884</td><td>&quot;Entertainment&quot;</td><td>2007</td></tr><tr><td>149</td><td>150</td><td>&quot;Ishtar Music&quot;</td><td>39800000</td><td>16502312582</td><td>4589</td><td>&quot;Film &amp; Animati...</td><td>2005</td></tr><tr><td>213</td><td>214</td><td>&quot;Saregama Music...</td><td>32500000</td><td>13910019443</td><td>6796</td><td>&quot;Entertainment&quot;</td><td>2013</td></tr></tbody></table></div>"
      ],
      "text/plain": [
       "shape: (6, 8)\n",
       "┌─────┬──────┬────────────────┬──────────────────┬─────────────┬─────────────┬──────────────────┬─────────────────┐\n",
       "│     ┆ Rank ┆ Channel_Name   ┆ Subscriber_Count ┆ Video_Views ┆ Video_Count ┆ Genre            ┆ Channel_Started │\n",
       "│ --- ┆ ---  ┆ ---            ┆ ---              ┆ ---         ┆ ---         ┆ ---              ┆ ---             │\n",
       "│ i64 ┆ i64  ┆ str            ┆ i64              ┆ i64         ┆ i64         ┆ str              ┆ i64             │\n",
       "╞═════╪══════╪════════════════╪══════════════════╪═════════════╪═════════════╪══════════════════╪═════════════════╡\n",
       "│ 19  ┆ 20   ┆ Wave Music     ┆ 56300000         ┆ 39258909308 ┆ 19031       ┆ Music            ┆ 2014            │\n",
       "│ 56  ┆ 57   ┆ EminemMusic    ┆ 55400000         ┆ 25713668530 ┆ 140         ┆ Music            ┆ 2007            │\n",
       "│ 65  ┆ 66   ┆ Aditya Music   ┆ 27600000         ┆ 24574327626 ┆ 21020       ┆ Music            ┆ 2008            │\n",
       "│ 134 ┆ 135  ┆ Eros Now Music ┆ 32100000         ┆ 17427689200 ┆ 9884        ┆ Entertainment    ┆ 2007            │\n",
       "│ 149 ┆ 150  ┆ Ishtar Music   ┆ 39800000         ┆ 16502312582 ┆ 4589        ┆ Film & Animation ┆ 2005            │\n",
       "│ 213 ┆ 214  ┆ Saregama Music ┆ 32500000         ┆ 13910019443 ┆ 6796        ┆ Entertainment    ┆ 2013            │\n",
       "└─────┴──────┴────────────────┴──────────────────┴─────────────┴─────────────┴──────────────────┴─────────────────┘"
      ]
     },
     "execution_count": 37,
     "metadata": {},
     "output_type": "execute_result"
    }
   ],
   "source": [
    "(dataframe\n",
    "    .filter(pl.col('Channel_Name').str.ends_with(\"Music\"))\n",
    ")"
   ]
  },
  {
   "cell_type": "markdown",
   "id": "3ad988cd",
   "metadata": {},
   "source": [
    "## Selecionando e operando"
   ]
  },
  {
   "cell_type": "code",
   "execution_count": 38,
   "id": "5e73e221",
   "metadata": {},
   "outputs": [
    {
     "data": {
      "text/html": [
       "<div><style>\n",
       ".dataframe > thead > tr > th,\n",
       ".dataframe > tbody > tr > td {\n",
       "  text-align: right;\n",
       "}\n",
       "</style>\n",
       "<small>shape: (1, 3)</small><table border=\"1\" class=\"dataframe\"><thead><tr><th>Mean_Subscriber_Count</th><th>N_Channels</th><th>Max_Lenght</th></tr><tr><td>f64</td><td>u32</td><td>u32</td></tr></thead><tbody><tr><td>3.1592e7</td><td>296</td><td>51</td></tr></tbody></table></div>"
      ],
      "text/plain": [
       "shape: (1, 3)\n",
       "┌───────────────────────┬────────────┬────────────┐\n",
       "│ Mean_Subscriber_Count ┆ N_Channels ┆ Max_Lenght │\n",
       "│ ---                   ┆ ---        ┆ ---        │\n",
       "│ f64                   ┆ u32        ┆ u32        │\n",
       "╞═══════════════════════╪════════════╪════════════╡\n",
       "│ 3.1592e7              ┆ 296        ┆ 51         │\n",
       "└───────────────────────┴────────────┴────────────┘"
      ]
     },
     "execution_count": 38,
     "metadata": {},
     "output_type": "execute_result"
    }
   ],
   "source": [
    "dataframe.select(pl.col(\"Subscriber_Count\").mean().alias(\"Mean_Subscriber_Count\"),\n",
    "                 pl.col(\"Channel_Name\").n_unique().alias(\"N_Channels\"),\n",
    "                 pl.col(\"Channel_Name\").str.lengths().max().alias(\"Max_Lenght\"))"
   ]
  },
  {
   "cell_type": "code",
   "execution_count": 39,
   "id": "a3bef44c",
   "metadata": {},
   "outputs": [
    {
     "data": {
      "text/html": [
       "<div><style>\n",
       ".dataframe > thead > tr > th,\n",
       ".dataframe > tbody > tr > td {\n",
       "  text-align: right;\n",
       "}\n",
       "</style>\n",
       "<small>shape: (5, 8)</small><table border=\"1\" class=\"dataframe\"><thead><tr><th></th><th>Rank</th><th>Channel_Name</th><th>Subscriber_Count</th><th>Video_Views</th><th>Video_Count</th><th>Genre</th><th>Channel_Started</th></tr><tr><td>i64</td><td>i64</td><td>str</td><td>i64</td><td>i64</td><td>i64</td><td>str</td><td>i64</td></tr></thead><tbody><tr><td>0</td><td>1</td><td>&quot;T-Series&quot;</td><td>237000000</td><td>216495600668</td><td>18831</td><td>&quot;Music&quot;</td><td>2006</td></tr><tr><td>1</td><td>2</td><td>&quot;Cocomelon - Nu...</td><td>154000000</td><td>152638999634</td><td>861</td><td>&quot;Education&quot;</td><td>2006</td></tr><tr><td>2</td><td>3</td><td>&quot;SET India&quot;</td><td>152000000</td><td>140138068504</td><td>105649</td><td>&quot;Film &amp; Animati...</td><td>2006</td></tr><tr><td>3</td><td>4</td><td>&quot;Sony SAB&quot;</td><td>77500000</td><td>92952274861</td><td>65028</td><td>&quot;Film &amp; Animati...</td><td>2007</td></tr><tr><td>4</td><td>5</td><td>&quot;✿ Kids Diana S...</td><td>108000000</td><td>88452629066</td><td>1070</td><td>&quot;People &amp; Blogs...</td><td>2015</td></tr></tbody></table></div>"
      ],
      "text/plain": [
       "shape: (5, 8)\n",
       "┌─────┬──────┬────────────────────┬──────────────────┬──────────────┬─────────────┬──────────────────┬─────────────────┐\n",
       "│     ┆ Rank ┆ Channel_Name       ┆ Subscriber_Count ┆ Video_Views  ┆ Video_Count ┆ Genre            ┆ Channel_Started │\n",
       "│ --- ┆ ---  ┆ ---                ┆ ---              ┆ ---          ┆ ---         ┆ ---              ┆ ---             │\n",
       "│ i64 ┆ i64  ┆ str                ┆ i64              ┆ i64          ┆ i64         ┆ str              ┆ i64             │\n",
       "╞═════╪══════╪════════════════════╪══════════════════╪══════════════╪═════════════╪══════════════════╪═════════════════╡\n",
       "│ 0   ┆ 1    ┆ T-Series           ┆ 237000000        ┆ 216495600668 ┆ 18831       ┆ Music            ┆ 2006            │\n",
       "│ 1   ┆ 2    ┆ Cocomelon -        ┆ 154000000        ┆ 152638999634 ┆ 861         ┆ Education        ┆ 2006            │\n",
       "│     ┆      ┆ Nursery Rhymes     ┆                  ┆              ┆             ┆                  ┆                 │\n",
       "│ 2   ┆ 3    ┆ SET India          ┆ 152000000        ┆ 140138068504 ┆ 105649      ┆ Film & Animation ┆ 2006            │\n",
       "│ 3   ┆ 4    ┆ Sony SAB           ┆ 77500000         ┆ 92952274861  ┆ 65028       ┆ Film & Animation ┆ 2007            │\n",
       "│ 4   ┆ 5    ┆ ✿ Kids Diana Show  ┆ 108000000        ┆ 88452629066  ┆ 1070        ┆ People & Blogs   ┆ 2015            │\n",
       "└─────┴──────┴────────────────────┴──────────────────┴──────────────┴─────────────┴──────────────────┴─────────────────┘"
      ]
     },
     "execution_count": 39,
     "metadata": {},
     "output_type": "execute_result"
    }
   ],
   "source": [
    "dataframe.head()"
   ]
  },
  {
   "cell_type": "code",
   "execution_count": 40,
   "id": "8a3209a8",
   "metadata": {},
   "outputs": [
    {
     "data": {
      "text/html": [
       "<div><style>\n",
       ".dataframe > thead > tr > th,\n",
       ".dataframe > tbody > tr > td {\n",
       "  text-align: right;\n",
       "}\n",
       "</style>\n",
       "<small>shape: (1, 8)</small><table border=\"1\" class=\"dataframe\"><thead><tr><th>Channel_Name_max_lenght</th><th>Genre_max_lenght</th><th>Mean_</th><th>Mean_Rank</th><th>Mean_Subscriber_Count</th><th>Mean_Video_Views</th><th>Mean_Video_Count</th><th>Mean_Channel_Started</th></tr><tr><td>u32</td><td>u32</td><td>f64</td><td>f64</td><td>f64</td><td>f64</td><td>f64</td><td>f64</td></tr></thead><tbody><tr><td>51</td><td>16</td><td>149.760135</td><td>150.760135</td><td>3.1592e7</td><td>2.1996e10</td><td>19174.331081</td><td>2011.368243</td></tr></tbody></table></div>"
      ],
      "text/plain": [
       "shape: (1, 8)\n",
       "┌───────────────┬───────────────┬────────────┬────────────┬───────────────┬──────────────┬──────────────┬──────────────┐\n",
       "│ Channel_Name_ ┆ Genre_max_len ┆ Mean_      ┆ Mean_Rank  ┆ Mean_Subscrib ┆ Mean_Video_V ┆ Mean_Video_C ┆ Mean_Channel │\n",
       "│ max_lenght    ┆ ght           ┆ ---        ┆ ---        ┆ er_Count      ┆ iews         ┆ ount         ┆ _Started     │\n",
       "│ ---           ┆ ---           ┆ f64        ┆ f64        ┆ ---           ┆ ---          ┆ ---          ┆ ---          │\n",
       "│ u32           ┆ u32           ┆            ┆            ┆ f64           ┆ f64          ┆ f64          ┆ f64          │\n",
       "╞═══════════════╪═══════════════╪════════════╪════════════╪═══════════════╪══════════════╪══════════════╪══════════════╡\n",
       "│ 51            ┆ 16            ┆ 149.760135 ┆ 150.760135 ┆ 3.1592e7      ┆ 2.1996e10    ┆ 19174.331081 ┆ 2011.368243  │\n",
       "└───────────────┴───────────────┴────────────┴────────────┴───────────────┴──────────────┴──────────────┴──────────────┘"
      ]
     },
     "execution_count": 40,
     "metadata": {},
     "output_type": "execute_result"
    }
   ],
   "source": [
    "dataframe.select(pl.col(pl.Utf8).str.lengths().max().suffix(\"_max_lenght\"),\n",
    "                 pl.col(pl.Int64).mean().prefix(\"Mean_\"))"
   ]
  },
  {
   "cell_type": "markdown",
   "id": "2da6a2a4",
   "metadata": {},
   "source": [
    "Selecionando todas as colunas (ou parte delas)"
   ]
  },
  {
   "cell_type": "code",
   "execution_count": 41,
   "id": "f6113fca",
   "metadata": {},
   "outputs": [
    {
     "data": {
      "text/html": [
       "<div><style>\n",
       ".dataframe > thead > tr > th,\n",
       ".dataframe > tbody > tr > td {\n",
       "  text-align: right;\n",
       "}\n",
       "</style>\n",
       "<small>shape: (5, 8)</small><table border=\"1\" class=\"dataframe\"><thead><tr><th></th><th>Rank</th><th>Channel_Name</th><th>Subscriber_Count</th><th>Video_Views</th><th>Video_Count</th><th>Genre</th><th>Channel_Started</th></tr><tr><td>i64</td><td>i64</td><td>str</td><td>i64</td><td>i64</td><td>i64</td><td>str</td><td>i64</td></tr></thead><tbody><tr><td>0</td><td>1</td><td>&quot;T-Series&quot;</td><td>237000000</td><td>216495600668</td><td>18831</td><td>&quot;Music&quot;</td><td>2006</td></tr><tr><td>1</td><td>2</td><td>&quot;Cocomelon - Nu...</td><td>154000000</td><td>152638999634</td><td>861</td><td>&quot;Education&quot;</td><td>2006</td></tr><tr><td>2</td><td>3</td><td>&quot;SET India&quot;</td><td>152000000</td><td>140138068504</td><td>105649</td><td>&quot;Film &amp; Animati...</td><td>2006</td></tr><tr><td>3</td><td>4</td><td>&quot;Sony SAB&quot;</td><td>77500000</td><td>92952274861</td><td>65028</td><td>&quot;Film &amp; Animati...</td><td>2007</td></tr><tr><td>4</td><td>5</td><td>&quot;✿ Kids Diana S...</td><td>108000000</td><td>88452629066</td><td>1070</td><td>&quot;People &amp; Blogs...</td><td>2015</td></tr></tbody></table></div>"
      ],
      "text/plain": [
       "shape: (5, 8)\n",
       "┌─────┬──────┬────────────────────┬──────────────────┬──────────────┬─────────────┬──────────────────┬─────────────────┐\n",
       "│     ┆ Rank ┆ Channel_Name       ┆ Subscriber_Count ┆ Video_Views  ┆ Video_Count ┆ Genre            ┆ Channel_Started │\n",
       "│ --- ┆ ---  ┆ ---                ┆ ---              ┆ ---          ┆ ---         ┆ ---              ┆ ---             │\n",
       "│ i64 ┆ i64  ┆ str                ┆ i64              ┆ i64          ┆ i64         ┆ str              ┆ i64             │\n",
       "╞═════╪══════╪════════════════════╪══════════════════╪══════════════╪═════════════╪══════════════════╪═════════════════╡\n",
       "│ 0   ┆ 1    ┆ T-Series           ┆ 237000000        ┆ 216495600668 ┆ 18831       ┆ Music            ┆ 2006            │\n",
       "│ 1   ┆ 2    ┆ Cocomelon -        ┆ 154000000        ┆ 152638999634 ┆ 861         ┆ Education        ┆ 2006            │\n",
       "│     ┆      ┆ Nursery Rhymes     ┆                  ┆              ┆             ┆                  ┆                 │\n",
       "│ 2   ┆ 3    ┆ SET India          ┆ 152000000        ┆ 140138068504 ┆ 105649      ┆ Film & Animation ┆ 2006            │\n",
       "│ 3   ┆ 4    ┆ Sony SAB           ┆ 77500000         ┆ 92952274861  ┆ 65028       ┆ Film & Animation ┆ 2007            │\n",
       "│ 4   ┆ 5    ┆ ✿ Kids Diana Show  ┆ 108000000        ┆ 88452629066  ┆ 1070        ┆ People & Blogs   ┆ 2015            │\n",
       "└─────┴──────┴────────────────────┴──────────────────┴──────────────┴─────────────┴──────────────────┴─────────────────┘"
      ]
     },
     "execution_count": 41,
     "metadata": {},
     "output_type": "execute_result"
    }
   ],
   "source": [
    "dataframe.select(pl.all()).head()"
   ]
  },
  {
   "cell_type": "code",
   "execution_count": 42,
   "id": "5ed706e4",
   "metadata": {},
   "outputs": [
    {
     "data": {
      "text/html": [
       "<div><style>\n",
       ".dataframe > thead > tr > th,\n",
       ".dataframe > tbody > tr > td {\n",
       "  text-align: right;\n",
       "}\n",
       "</style>\n",
       "<small>shape: (5, 8)</small><table border=\"1\" class=\"dataframe\"><thead><tr><th></th><th>Rank</th><th>Channel_Name</th><th>Subscriber_Count</th><th>Video_Views</th><th>Video_Count</th><th>Genre</th><th>Channel_Started</th></tr><tr><td>i64</td><td>i64</td><td>str</td><td>i64</td><td>i64</td><td>i64</td><td>str</td><td>i64</td></tr></thead><tbody><tr><td>0</td><td>1</td><td>&quot;T-Series&quot;</td><td>237000000</td><td>216495600668</td><td>18831</td><td>&quot;Music&quot;</td><td>2006</td></tr><tr><td>1</td><td>2</td><td>&quot;Cocomelon - Nu...</td><td>154000000</td><td>152638999634</td><td>861</td><td>&quot;Education&quot;</td><td>2006</td></tr><tr><td>2</td><td>3</td><td>&quot;SET India&quot;</td><td>152000000</td><td>140138068504</td><td>105649</td><td>&quot;Film &amp; Animati...</td><td>2006</td></tr><tr><td>3</td><td>4</td><td>&quot;Sony SAB&quot;</td><td>77500000</td><td>92952274861</td><td>65028</td><td>&quot;Film &amp; Animati...</td><td>2007</td></tr><tr><td>4</td><td>5</td><td>&quot;✿ Kids Diana S...</td><td>108000000</td><td>88452629066</td><td>1070</td><td>&quot;People &amp; Blogs...</td><td>2015</td></tr></tbody></table></div>"
      ],
      "text/plain": [
       "shape: (5, 8)\n",
       "┌─────┬──────┬────────────────────┬──────────────────┬──────────────┬─────────────┬──────────────────┬─────────────────┐\n",
       "│     ┆ Rank ┆ Channel_Name       ┆ Subscriber_Count ┆ Video_Views  ┆ Video_Count ┆ Genre            ┆ Channel_Started │\n",
       "│ --- ┆ ---  ┆ ---                ┆ ---              ┆ ---          ┆ ---         ┆ ---              ┆ ---             │\n",
       "│ i64 ┆ i64  ┆ str                ┆ i64              ┆ i64          ┆ i64         ┆ str              ┆ i64             │\n",
       "╞═════╪══════╪════════════════════╪══════════════════╪══════════════╪═════════════╪══════════════════╪═════════════════╡\n",
       "│ 0   ┆ 1    ┆ T-Series           ┆ 237000000        ┆ 216495600668 ┆ 18831       ┆ Music            ┆ 2006            │\n",
       "│ 1   ┆ 2    ┆ Cocomelon -        ┆ 154000000        ┆ 152638999634 ┆ 861         ┆ Education        ┆ 2006            │\n",
       "│     ┆      ┆ Nursery Rhymes     ┆                  ┆              ┆             ┆                  ┆                 │\n",
       "│ 2   ┆ 3    ┆ SET India          ┆ 152000000        ┆ 140138068504 ┆ 105649      ┆ Film & Animation ┆ 2006            │\n",
       "│ 3   ┆ 4    ┆ Sony SAB           ┆ 77500000         ┆ 92952274861  ┆ 65028       ┆ Film & Animation ┆ 2007            │\n",
       "│ 4   ┆ 5    ┆ ✿ Kids Diana Show  ┆ 108000000        ┆ 88452629066  ┆ 1070        ┆ People & Blogs   ┆ 2015            │\n",
       "└─────┴──────┴────────────────────┴──────────────────┴──────────────┴─────────────┴──────────────────┴─────────────────┘"
      ]
     },
     "execution_count": 42,
     "metadata": {},
     "output_type": "execute_result"
    }
   ],
   "source": [
    "dataframe.select(pl.col(\"*\")).head()"
   ]
  },
  {
   "cell_type": "code",
   "execution_count": 43,
   "id": "138da42c",
   "metadata": {},
   "outputs": [
    {
     "data": {
      "text/html": [
       "<div><style>\n",
       ".dataframe > thead > tr > th,\n",
       ".dataframe > tbody > tr > td {\n",
       "  text-align: right;\n",
       "}\n",
       "</style>\n",
       "<small>shape: (5, 7)</small><table border=\"1\" class=\"dataframe\"><thead><tr><th></th><th>Rank</th><th>Channel_Name</th><th>Subscriber_Count</th><th>Video_Views</th><th>Video_Count</th><th>Channel_Started</th></tr><tr><td>i64</td><td>i64</td><td>str</td><td>i64</td><td>i64</td><td>i64</td><td>i64</td></tr></thead><tbody><tr><td>0</td><td>1</td><td>&quot;T-Series&quot;</td><td>237000000</td><td>216495600668</td><td>18831</td><td>2006</td></tr><tr><td>1</td><td>2</td><td>&quot;Cocomelon - Nu...</td><td>154000000</td><td>152638999634</td><td>861</td><td>2006</td></tr><tr><td>2</td><td>3</td><td>&quot;SET India&quot;</td><td>152000000</td><td>140138068504</td><td>105649</td><td>2006</td></tr><tr><td>3</td><td>4</td><td>&quot;Sony SAB&quot;</td><td>77500000</td><td>92952274861</td><td>65028</td><td>2007</td></tr><tr><td>4</td><td>5</td><td>&quot;✿ Kids Diana S...</td><td>108000000</td><td>88452629066</td><td>1070</td><td>2015</td></tr></tbody></table></div>"
      ],
      "text/plain": [
       "shape: (5, 7)\n",
       "┌─────┬──────┬────────────────────────────┬──────────────────┬──────────────┬─────────────┬─────────────────┐\n",
       "│     ┆ Rank ┆ Channel_Name               ┆ Subscriber_Count ┆ Video_Views  ┆ Video_Count ┆ Channel_Started │\n",
       "│ --- ┆ ---  ┆ ---                        ┆ ---              ┆ ---          ┆ ---         ┆ ---             │\n",
       "│ i64 ┆ i64  ┆ str                        ┆ i64              ┆ i64          ┆ i64         ┆ i64             │\n",
       "╞═════╪══════╪════════════════════════════╪══════════════════╪══════════════╪═════════════╪═════════════════╡\n",
       "│ 0   ┆ 1    ┆ T-Series                   ┆ 237000000        ┆ 216495600668 ┆ 18831       ┆ 2006            │\n",
       "│ 1   ┆ 2    ┆ Cocomelon - Nursery Rhymes ┆ 154000000        ┆ 152638999634 ┆ 861         ┆ 2006            │\n",
       "│ 2   ┆ 3    ┆ SET India                  ┆ 152000000        ┆ 140138068504 ┆ 105649      ┆ 2006            │\n",
       "│ 3   ┆ 4    ┆ Sony SAB                   ┆ 77500000         ┆ 92952274861  ┆ 65028       ┆ 2007            │\n",
       "│ 4   ┆ 5    ┆ ✿ Kids Diana Show          ┆ 108000000        ┆ 88452629066  ┆ 1070        ┆ 2015            │\n",
       "└─────┴──────┴────────────────────────────┴──────────────────┴──────────────┴─────────────┴─────────────────┘"
      ]
     },
     "execution_count": 43,
     "metadata": {},
     "output_type": "execute_result"
    }
   ],
   "source": [
    "dataframe.select(pl.all().exclude(\"Genre\")).head()"
   ]
  },
  {
   "cell_type": "code",
   "execution_count": 45,
   "id": "f858a993",
   "metadata": {},
   "outputs": [
    {
     "data": {
      "text/html": [
       "<div><style>\n",
       ".dataframe > thead > tr > th,\n",
       ".dataframe > tbody > tr > td {\n",
       "  text-align: right;\n",
       "}\n",
       "</style>\n",
       "<small>shape: (296, 8)</small><table border=\"1\" class=\"dataframe\"><thead><tr><th></th><th>Rank</th><th>Channel_Name</th><th>Subscriber_Count</th><th>Video_Views</th><th>Video_Count</th><th>Genre</th><th>Channel_Started</th></tr><tr><td>i64</td><td>i64</td><td>str</td><td>i64</td><td>i64</td><td>i64</td><td>str</td><td>i64</td></tr></thead><tbody><tr><td>0</td><td>1</td><td>&quot;T-Series&quot;</td><td>237000000</td><td>216495600668</td><td>18831</td><td>&quot;Music&quot;</td><td>2006</td></tr><tr><td>1</td><td>2</td><td>&quot;Cocomelon - Nu...</td><td>154000000</td><td>152638999634</td><td>861</td><td>&quot;Education&quot;</td><td>2006</td></tr><tr><td>2</td><td>3</td><td>&quot;SET India&quot;</td><td>152000000</td><td>140138068504</td><td>105649</td><td>&quot;Film &amp; Animati...</td><td>2006</td></tr><tr><td>3</td><td>4</td><td>&quot;Sony SAB&quot;</td><td>77500000</td><td>92952274861</td><td>65028</td><td>&quot;Film &amp; Animati...</td><td>2007</td></tr><tr><td>4</td><td>5</td><td>&quot;✿ Kids Diana S...</td><td>108000000</td><td>88452629066</td><td>1070</td><td>&quot;People &amp; Blogs...</td><td>2015</td></tr><tr><td>5</td><td>6</td><td>&quot;Like Nastya&quot;</td><td>104000000</td><td>88060349741</td><td>762</td><td>&quot;People &amp; Blogs...</td><td>2016</td></tr><tr><td>6</td><td>7</td><td>&quot;WWE&quot;</td><td>93500000</td><td>74447865775</td><td>66901</td><td>&quot;Sports&quot;</td><td>2007</td></tr><tr><td>7</td><td>8</td><td>&quot;Vlad and Niki&quot;</td><td>93900000</td><td>73333582362</td><td>530</td><td>&quot;Entertainment&quot;</td><td>2018</td></tr><tr><td>8</td><td>9</td><td>&quot;Movieclips&quot;</td><td>58700000</td><td>58923017461</td><td>40063</td><td>&quot;Film &amp; Animati...</td><td>2006</td></tr><tr><td>9</td><td>10</td><td>&quot;Colors TV&quot;</td><td>60200000</td><td>58056997206</td><td>104523</td><td>&quot;Film &amp; Animati...</td><td>2008</td></tr><tr><td>10</td><td>11</td><td>&quot;Zee Music Comp...</td><td>92800000</td><td>54295114324</td><td>7768</td><td>&quot;Music&quot;</td><td>2014</td></tr><tr><td>11</td><td>12</td><td>&quot;El Reino Infan...</td><td>55600000</td><td>54151900416</td><td>1434</td><td>&quot;Music&quot;</td><td>2011</td></tr><tr><td>&hellip;</td><td>&hellip;</td><td>&hellip;</td><td>&hellip;</td><td>&hellip;</td><td>&hellip;</td><td>&hellip;</td><td>&hellip;</td></tr><tr><td>288</td><td>289</td><td>&quot;ABP NEWS&quot;</td><td>35500000</td><td>11840564703</td><td>262326</td><td>&quot;People &amp; Blogs...</td><td>2012</td></tr><tr><td>289</td><td>290</td><td>&quot;GMMTV OFFICIAL...</td><td>15800000</td><td>11838649898</td><td>22174</td><td>&quot;Entertainment&quot;</td><td>2010</td></tr><tr><td>290</td><td>291</td><td>&quot;michaeljackson...</td><td>8080000</td><td>11806216949</td><td>138</td><td>&quot;Music&quot;</td><td>2009</td></tr><tr><td>291</td><td>292</td><td>&quot;ItsFunneh&quot;</td><td>9840000</td><td>11791649003</td><td>2519</td><td>&quot;Gaming&quot;</td><td>2011</td></tr><tr><td>292</td><td>293</td><td>&quot;NBA&quot;</td><td>19900000</td><td>11761981184</td><td>45177</td><td>&quot;Sports&quot;</td><td>2005</td></tr><tr><td>293</td><td>294</td><td>&quot;ChainsmokersVE...</td><td>11100000</td><td>11734620739</td><td>246</td><td>&quot;Music&quot;</td><td>2012</td></tr><tr><td>294</td><td>295</td><td>&quot;eltrece&quot;</td><td>12100000</td><td>11709869278</td><td>159305</td><td>&quot;Entertainment&quot;</td><td>2014</td></tr><tr><td>295</td><td>296</td><td>&quot;Jake Fellman&quot;</td><td>15000000</td><td>11618626248</td><td>440</td><td>&quot;Entertainment&quot;</td><td>2012</td></tr><tr><td>296</td><td>297</td><td>&quot;DisneyJuniorUK...</td><td>11300000</td><td>11586962179</td><td>2789</td><td>&quot;Entertainment&quot;</td><td>2010</td></tr><tr><td>297</td><td>298</td><td>&quot;JTBC Entertain...</td><td>7580000</td><td>11512332695</td><td>76838</td><td>&quot;Entertainment&quot;</td><td>2012</td></tr><tr><td>298</td><td>299</td><td>&quot;Mnet TV&quot;</td><td>9040000</td><td>11442069884</td><td>21617</td><td>&quot;Entertainment&quot;</td><td>2013</td></tr><tr><td>299</td><td>300</td><td>&quot;GMA News&quot;</td><td>12900000</td><td>11387663843</td><td>345736</td><td>&quot;News &amp; Politic...</td><td>2007</td></tr></tbody></table></div>"
      ],
      "text/plain": [
       "shape: (296, 8)\n",
       "┌─────┬──────┬────────────────────┬──────────────────┬──────────────┬─────────────┬──────────────────┬─────────────────┐\n",
       "│     ┆ Rank ┆ Channel_Name       ┆ Subscriber_Count ┆ Video_Views  ┆ Video_Count ┆ Genre            ┆ Channel_Started │\n",
       "│ --- ┆ ---  ┆ ---                ┆ ---              ┆ ---          ┆ ---         ┆ ---              ┆ ---             │\n",
       "│ i64 ┆ i64  ┆ str                ┆ i64              ┆ i64          ┆ i64         ┆ str              ┆ i64             │\n",
       "╞═════╪══════╪════════════════════╪══════════════════╪══════════════╪═════════════╪══════════════════╪═════════════════╡\n",
       "│ 0   ┆ 1    ┆ T-Series           ┆ 237000000        ┆ 216495600668 ┆ 18831       ┆ Music            ┆ 2006            │\n",
       "│ 1   ┆ 2    ┆ Cocomelon -        ┆ 154000000        ┆ 152638999634 ┆ 861         ┆ Education        ┆ 2006            │\n",
       "│     ┆      ┆ Nursery Rhymes     ┆                  ┆              ┆             ┆                  ┆                 │\n",
       "│ 2   ┆ 3    ┆ SET India          ┆ 152000000        ┆ 140138068504 ┆ 105649      ┆ Film & Animation ┆ 2006            │\n",
       "│ 3   ┆ 4    ┆ Sony SAB           ┆ 77500000         ┆ 92952274861  ┆ 65028       ┆ Film & Animation ┆ 2007            │\n",
       "│ …   ┆ …    ┆ …                  ┆ …                ┆ …            ┆ …           ┆ …                ┆ …               │\n",
       "│ 296 ┆ 297  ┆ DisneyJuniorUK     ┆ 11300000         ┆ 11586962179  ┆ 2789        ┆ Entertainment    ┆ 2010            │\n",
       "│ 297 ┆ 298  ┆ JTBC Entertainment ┆ 7580000          ┆ 11512332695  ┆ 76838       ┆ Entertainment    ┆ 2012            │\n",
       "│ 298 ┆ 299  ┆ Mnet TV            ┆ 9040000          ┆ 11442069884  ┆ 21617       ┆ Entertainment    ┆ 2013            │\n",
       "│ 299 ┆ 300  ┆ GMA News           ┆ 12900000         ┆ 11387663843  ┆ 345736      ┆ News & Politics  ┆ 2007            │\n",
       "└─────┴──────┴────────────────────┴──────────────────┴──────────────┴─────────────┴──────────────────┴─────────────────┘"
      ]
     },
     "execution_count": 45,
     "metadata": {},
     "output_type": "execute_result"
    }
   ],
   "source": [
    "dataframe.head()"
   ]
  },
  {
   "cell_type": "markdown",
   "id": "d9b7fef2",
   "metadata": {},
   "source": [
    "# Ajustando Colunas\n",
    "\n",
    "## Renomeando Colunas\n",
    "Similar ao pandas"
   ]
  },
  {
   "cell_type": "code",
   "execution_count": 46,
   "id": "f28478f8",
   "metadata": {},
   "outputs": [
    {
     "data": {
      "text/html": [
       "<div><style>\n",
       ".dataframe > thead > tr > th,\n",
       ".dataframe > tbody > tr > td {\n",
       "  text-align: right;\n",
       "}\n",
       "</style>\n",
       "<small>shape: (296, 8)</small><table border=\"1\" class=\"dataframe\"><thead><tr><th></th><th>Rank_Channels</th><th>Channel_Name</th><th>Subscriber_Count</th><th>Video_Views</th><th>Video_Count</th><th>Genre</th><th>Channel_Started</th></tr><tr><td>i64</td><td>i64</td><td>str</td><td>i64</td><td>i64</td><td>i64</td><td>str</td><td>i64</td></tr></thead><tbody><tr><td>0</td><td>1</td><td>&quot;T-Series&quot;</td><td>237000000</td><td>216495600668</td><td>18831</td><td>&quot;Music&quot;</td><td>2006</td></tr><tr><td>1</td><td>2</td><td>&quot;Cocomelon - Nu...</td><td>154000000</td><td>152638999634</td><td>861</td><td>&quot;Education&quot;</td><td>2006</td></tr><tr><td>2</td><td>3</td><td>&quot;SET India&quot;</td><td>152000000</td><td>140138068504</td><td>105649</td><td>&quot;Film &amp; Animati...</td><td>2006</td></tr><tr><td>3</td><td>4</td><td>&quot;Sony SAB&quot;</td><td>77500000</td><td>92952274861</td><td>65028</td><td>&quot;Film &amp; Animati...</td><td>2007</td></tr><tr><td>4</td><td>5</td><td>&quot;✿ Kids Diana S...</td><td>108000000</td><td>88452629066</td><td>1070</td><td>&quot;People &amp; Blogs...</td><td>2015</td></tr><tr><td>5</td><td>6</td><td>&quot;Like Nastya&quot;</td><td>104000000</td><td>88060349741</td><td>762</td><td>&quot;People &amp; Blogs...</td><td>2016</td></tr><tr><td>6</td><td>7</td><td>&quot;WWE&quot;</td><td>93500000</td><td>74447865775</td><td>66901</td><td>&quot;Sports&quot;</td><td>2007</td></tr><tr><td>7</td><td>8</td><td>&quot;Vlad and Niki&quot;</td><td>93900000</td><td>73333582362</td><td>530</td><td>&quot;Entertainment&quot;</td><td>2018</td></tr><tr><td>8</td><td>9</td><td>&quot;Movieclips&quot;</td><td>58700000</td><td>58923017461</td><td>40063</td><td>&quot;Film &amp; Animati...</td><td>2006</td></tr><tr><td>9</td><td>10</td><td>&quot;Colors TV&quot;</td><td>60200000</td><td>58056997206</td><td>104523</td><td>&quot;Film &amp; Animati...</td><td>2008</td></tr><tr><td>10</td><td>11</td><td>&quot;Zee Music Comp...</td><td>92800000</td><td>54295114324</td><td>7768</td><td>&quot;Music&quot;</td><td>2014</td></tr><tr><td>11</td><td>12</td><td>&quot;El Reino Infan...</td><td>55600000</td><td>54151900416</td><td>1434</td><td>&quot;Music&quot;</td><td>2011</td></tr><tr><td>&hellip;</td><td>&hellip;</td><td>&hellip;</td><td>&hellip;</td><td>&hellip;</td><td>&hellip;</td><td>&hellip;</td><td>&hellip;</td></tr><tr><td>288</td><td>289</td><td>&quot;ABP NEWS&quot;</td><td>35500000</td><td>11840564703</td><td>262326</td><td>&quot;People &amp; Blogs...</td><td>2012</td></tr><tr><td>289</td><td>290</td><td>&quot;GMMTV OFFICIAL...</td><td>15800000</td><td>11838649898</td><td>22174</td><td>&quot;Entertainment&quot;</td><td>2010</td></tr><tr><td>290</td><td>291</td><td>&quot;michaeljackson...</td><td>8080000</td><td>11806216949</td><td>138</td><td>&quot;Music&quot;</td><td>2009</td></tr><tr><td>291</td><td>292</td><td>&quot;ItsFunneh&quot;</td><td>9840000</td><td>11791649003</td><td>2519</td><td>&quot;Gaming&quot;</td><td>2011</td></tr><tr><td>292</td><td>293</td><td>&quot;NBA&quot;</td><td>19900000</td><td>11761981184</td><td>45177</td><td>&quot;Sports&quot;</td><td>2005</td></tr><tr><td>293</td><td>294</td><td>&quot;ChainsmokersVE...</td><td>11100000</td><td>11734620739</td><td>246</td><td>&quot;Music&quot;</td><td>2012</td></tr><tr><td>294</td><td>295</td><td>&quot;eltrece&quot;</td><td>12100000</td><td>11709869278</td><td>159305</td><td>&quot;Entertainment&quot;</td><td>2014</td></tr><tr><td>295</td><td>296</td><td>&quot;Jake Fellman&quot;</td><td>15000000</td><td>11618626248</td><td>440</td><td>&quot;Entertainment&quot;</td><td>2012</td></tr><tr><td>296</td><td>297</td><td>&quot;DisneyJuniorUK...</td><td>11300000</td><td>11586962179</td><td>2789</td><td>&quot;Entertainment&quot;</td><td>2010</td></tr><tr><td>297</td><td>298</td><td>&quot;JTBC Entertain...</td><td>7580000</td><td>11512332695</td><td>76838</td><td>&quot;Entertainment&quot;</td><td>2012</td></tr><tr><td>298</td><td>299</td><td>&quot;Mnet TV&quot;</td><td>9040000</td><td>11442069884</td><td>21617</td><td>&quot;Entertainment&quot;</td><td>2013</td></tr><tr><td>299</td><td>300</td><td>&quot;GMA News&quot;</td><td>12900000</td><td>11387663843</td><td>345736</td><td>&quot;News &amp; Politic...</td><td>2007</td></tr></tbody></table></div>"
      ],
      "text/plain": [
       "shape: (296, 8)\n",
       "┌─────┬───────────────┬────────────────┬────────────────┬──────────────┬─────────────┬────────────────┬────────────────┐\n",
       "│     ┆ Rank_Channels ┆ Channel_Name   ┆ Subscriber_Cou ┆ Video_Views  ┆ Video_Count ┆ Genre          ┆ Channel_Starte │\n",
       "│ --- ┆ ---           ┆ ---            ┆ nt             ┆ ---          ┆ ---         ┆ ---            ┆ d              │\n",
       "│ i64 ┆ i64           ┆ str            ┆ ---            ┆ i64          ┆ i64         ┆ str            ┆ ---            │\n",
       "│     ┆               ┆                ┆ i64            ┆              ┆             ┆                ┆ i64            │\n",
       "╞═════╪═══════════════╪════════════════╪════════════════╪══════════════╪═════════════╪════════════════╪════════════════╡\n",
       "│ 0   ┆ 1             ┆ T-Series       ┆ 237000000      ┆ 216495600668 ┆ 18831       ┆ Music          ┆ 2006           │\n",
       "│ 1   ┆ 2             ┆ Cocomelon -    ┆ 154000000      ┆ 152638999634 ┆ 861         ┆ Education      ┆ 2006           │\n",
       "│     ┆               ┆ Nursery Rhymes ┆                ┆              ┆             ┆                ┆                │\n",
       "│ 2   ┆ 3             ┆ SET India      ┆ 152000000      ┆ 140138068504 ┆ 105649      ┆ Film &         ┆ 2006           │\n",
       "│     ┆               ┆                ┆                ┆              ┆             ┆ Animation      ┆                │\n",
       "│ 3   ┆ 4             ┆ Sony SAB       ┆ 77500000       ┆ 92952274861  ┆ 65028       ┆ Film &         ┆ 2007           │\n",
       "│     ┆               ┆                ┆                ┆              ┆             ┆ Animation      ┆                │\n",
       "│ …   ┆ …             ┆ …              ┆ …              ┆ …            ┆ …           ┆ …              ┆ …              │\n",
       "│ 296 ┆ 297           ┆ DisneyJuniorUK ┆ 11300000       ┆ 11586962179  ┆ 2789        ┆ Entertainment  ┆ 2010           │\n",
       "│ 297 ┆ 298           ┆ JTBC           ┆ 7580000        ┆ 11512332695  ┆ 76838       ┆ Entertainment  ┆ 2012           │\n",
       "│     ┆               ┆ Entertainment  ┆                ┆              ┆             ┆                ┆                │\n",
       "│ 298 ┆ 299           ┆ Mnet TV        ┆ 9040000        ┆ 11442069884  ┆ 21617       ┆ Entertainment  ┆ 2013           │\n",
       "│ 299 ┆ 300           ┆ GMA News       ┆ 12900000       ┆ 11387663843  ┆ 345736      ┆ News &         ┆ 2007           │\n",
       "│     ┆               ┆                ┆                ┆              ┆             ┆ Politics       ┆                │\n",
       "└─────┴───────────────┴────────────────┴────────────────┴──────────────┴─────────────┴────────────────┴────────────────┘"
      ]
     },
     "execution_count": 46,
     "metadata": {},
     "output_type": "execute_result"
    }
   ],
   "source": [
    "(dataframe\n",
    "    .rename(mapping = {'Rank': 'Rank_Channels'}))"
   ]
  },
  {
   "cell_type": "markdown",
   "id": "712fa036",
   "metadata": {},
   "source": [
    "## Removendo uma coluna"
   ]
  },
  {
   "cell_type": "code",
   "execution_count": 48,
   "id": "1e1399fd",
   "metadata": {},
   "outputs": [
    {
     "data": {
      "text/html": [
       "<div><style>\n",
       ".dataframe > thead > tr > th,\n",
       ".dataframe > tbody > tr > td {\n",
       "  text-align: right;\n",
       "}\n",
       "</style>\n",
       "<small>shape: (296,)</small><table border=\"1\" class=\"dataframe\"><thead><tr><th>Rank</th></tr><tr><td>i64</td></tr></thead><tbody><tr><td>1</td></tr><tr><td>2</td></tr><tr><td>3</td></tr><tr><td>4</td></tr><tr><td>5</td></tr><tr><td>6</td></tr><tr><td>7</td></tr><tr><td>8</td></tr><tr><td>9</td></tr><tr><td>10</td></tr><tr><td>11</td></tr><tr><td>12</td></tr><tr><td>&hellip;</td></tr><tr><td>289</td></tr><tr><td>290</td></tr><tr><td>291</td></tr><tr><td>292</td></tr><tr><td>293</td></tr><tr><td>294</td></tr><tr><td>295</td></tr><tr><td>296</td></tr><tr><td>297</td></tr><tr><td>298</td></tr><tr><td>299</td></tr><tr><td>300</td></tr></tbody></table></div>"
      ],
      "text/plain": [
       "shape: (296,)\n",
       "Series: 'Rank' [i64]\n",
       "[\n",
       "\t1\n",
       "\t2\n",
       "\t3\n",
       "\t4\n",
       "\t5\n",
       "\t6\n",
       "\t7\n",
       "\t8\n",
       "\t9\n",
       "\t10\n",
       "\t11\n",
       "\t12\n",
       "\t…\n",
       "\t288\n",
       "\t289\n",
       "\t290\n",
       "\t291\n",
       "\t292\n",
       "\t293\n",
       "\t294\n",
       "\t295\n",
       "\t296\n",
       "\t297\n",
       "\t298\n",
       "\t299\n",
       "\t300\n",
       "]"
      ]
     },
     "execution_count": 48,
     "metadata": {},
     "output_type": "execute_result"
    }
   ],
   "source": [
    "dataframe.drop_in_place(\"Rank\")"
   ]
  },
  {
   "cell_type": "code",
   "execution_count": 49,
   "id": "35ff175e",
   "metadata": {},
   "outputs": [
    {
     "data": {
      "text/html": [
       "<div><style>\n",
       ".dataframe > thead > tr > th,\n",
       ".dataframe > tbody > tr > td {\n",
       "  text-align: right;\n",
       "}\n",
       "</style>\n",
       "<small>shape: (296, 7)</small><table border=\"1\" class=\"dataframe\"><thead><tr><th></th><th>Channel_Name</th><th>Subscriber_Count</th><th>Video_Views</th><th>Video_Count</th><th>Genre</th><th>Channel_Started</th></tr><tr><td>i64</td><td>str</td><td>i64</td><td>i64</td><td>i64</td><td>str</td><td>i64</td></tr></thead><tbody><tr><td>0</td><td>&quot;T-Series&quot;</td><td>237000000</td><td>216495600668</td><td>18831</td><td>&quot;Music&quot;</td><td>2006</td></tr><tr><td>1</td><td>&quot;Cocomelon - Nu...</td><td>154000000</td><td>152638999634</td><td>861</td><td>&quot;Education&quot;</td><td>2006</td></tr><tr><td>2</td><td>&quot;SET India&quot;</td><td>152000000</td><td>140138068504</td><td>105649</td><td>&quot;Film &amp; Animati...</td><td>2006</td></tr><tr><td>3</td><td>&quot;Sony SAB&quot;</td><td>77500000</td><td>92952274861</td><td>65028</td><td>&quot;Film &amp; Animati...</td><td>2007</td></tr><tr><td>4</td><td>&quot;✿ Kids Diana S...</td><td>108000000</td><td>88452629066</td><td>1070</td><td>&quot;People &amp; Blogs...</td><td>2015</td></tr><tr><td>5</td><td>&quot;Like Nastya&quot;</td><td>104000000</td><td>88060349741</td><td>762</td><td>&quot;People &amp; Blogs...</td><td>2016</td></tr><tr><td>6</td><td>&quot;WWE&quot;</td><td>93500000</td><td>74447865775</td><td>66901</td><td>&quot;Sports&quot;</td><td>2007</td></tr><tr><td>7</td><td>&quot;Vlad and Niki&quot;</td><td>93900000</td><td>73333582362</td><td>530</td><td>&quot;Entertainment&quot;</td><td>2018</td></tr><tr><td>8</td><td>&quot;Movieclips&quot;</td><td>58700000</td><td>58923017461</td><td>40063</td><td>&quot;Film &amp; Animati...</td><td>2006</td></tr><tr><td>9</td><td>&quot;Colors TV&quot;</td><td>60200000</td><td>58056997206</td><td>104523</td><td>&quot;Film &amp; Animati...</td><td>2008</td></tr><tr><td>10</td><td>&quot;Zee Music Comp...</td><td>92800000</td><td>54295114324</td><td>7768</td><td>&quot;Music&quot;</td><td>2014</td></tr><tr><td>11</td><td>&quot;El Reino Infan...</td><td>55600000</td><td>54151900416</td><td>1434</td><td>&quot;Music&quot;</td><td>2011</td></tr><tr><td>&hellip;</td><td>&hellip;</td><td>&hellip;</td><td>&hellip;</td><td>&hellip;</td><td>&hellip;</td><td>&hellip;</td></tr><tr><td>288</td><td>&quot;ABP NEWS&quot;</td><td>35500000</td><td>11840564703</td><td>262326</td><td>&quot;People &amp; Blogs...</td><td>2012</td></tr><tr><td>289</td><td>&quot;GMMTV OFFICIAL...</td><td>15800000</td><td>11838649898</td><td>22174</td><td>&quot;Entertainment&quot;</td><td>2010</td></tr><tr><td>290</td><td>&quot;michaeljackson...</td><td>8080000</td><td>11806216949</td><td>138</td><td>&quot;Music&quot;</td><td>2009</td></tr><tr><td>291</td><td>&quot;ItsFunneh&quot;</td><td>9840000</td><td>11791649003</td><td>2519</td><td>&quot;Gaming&quot;</td><td>2011</td></tr><tr><td>292</td><td>&quot;NBA&quot;</td><td>19900000</td><td>11761981184</td><td>45177</td><td>&quot;Sports&quot;</td><td>2005</td></tr><tr><td>293</td><td>&quot;ChainsmokersVE...</td><td>11100000</td><td>11734620739</td><td>246</td><td>&quot;Music&quot;</td><td>2012</td></tr><tr><td>294</td><td>&quot;eltrece&quot;</td><td>12100000</td><td>11709869278</td><td>159305</td><td>&quot;Entertainment&quot;</td><td>2014</td></tr><tr><td>295</td><td>&quot;Jake Fellman&quot;</td><td>15000000</td><td>11618626248</td><td>440</td><td>&quot;Entertainment&quot;</td><td>2012</td></tr><tr><td>296</td><td>&quot;DisneyJuniorUK...</td><td>11300000</td><td>11586962179</td><td>2789</td><td>&quot;Entertainment&quot;</td><td>2010</td></tr><tr><td>297</td><td>&quot;JTBC Entertain...</td><td>7580000</td><td>11512332695</td><td>76838</td><td>&quot;Entertainment&quot;</td><td>2012</td></tr><tr><td>298</td><td>&quot;Mnet TV&quot;</td><td>9040000</td><td>11442069884</td><td>21617</td><td>&quot;Entertainment&quot;</td><td>2013</td></tr><tr><td>299</td><td>&quot;GMA News&quot;</td><td>12900000</td><td>11387663843</td><td>345736</td><td>&quot;News &amp; Politic...</td><td>2007</td></tr></tbody></table></div>"
      ],
      "text/plain": [
       "shape: (296, 7)\n",
       "┌─────┬─────────────────────┬──────────────────┬──────────────┬─────────────┬──────────────────┬─────────────────┐\n",
       "│     ┆ Channel_Name        ┆ Subscriber_Count ┆ Video_Views  ┆ Video_Count ┆ Genre            ┆ Channel_Started │\n",
       "│ --- ┆ ---                 ┆ ---              ┆ ---          ┆ ---         ┆ ---              ┆ ---             │\n",
       "│ i64 ┆ str                 ┆ i64              ┆ i64          ┆ i64         ┆ str              ┆ i64             │\n",
       "╞═════╪═════════════════════╪══════════════════╪══════════════╪═════════════╪══════════════════╪═════════════════╡\n",
       "│ 0   ┆ T-Series            ┆ 237000000        ┆ 216495600668 ┆ 18831       ┆ Music            ┆ 2006            │\n",
       "│ 1   ┆ Cocomelon - Nursery ┆ 154000000        ┆ 152638999634 ┆ 861         ┆ Education        ┆ 2006            │\n",
       "│     ┆ Rhymes              ┆                  ┆              ┆             ┆                  ┆                 │\n",
       "│ 2   ┆ SET India           ┆ 152000000        ┆ 140138068504 ┆ 105649      ┆ Film & Animation ┆ 2006            │\n",
       "│ 3   ┆ Sony SAB            ┆ 77500000         ┆ 92952274861  ┆ 65028       ┆ Film & Animation ┆ 2007            │\n",
       "│ …   ┆ …                   ┆ …                ┆ …            ┆ …           ┆ …                ┆ …               │\n",
       "│ 296 ┆ DisneyJuniorUK      ┆ 11300000         ┆ 11586962179  ┆ 2789        ┆ Entertainment    ┆ 2010            │\n",
       "│ 297 ┆ JTBC Entertainment  ┆ 7580000          ┆ 11512332695  ┆ 76838       ┆ Entertainment    ┆ 2012            │\n",
       "│ 298 ┆ Mnet TV             ┆ 9040000          ┆ 11442069884  ┆ 21617       ┆ Entertainment    ┆ 2013            │\n",
       "│ 299 ┆ GMA News            ┆ 12900000         ┆ 11387663843  ┆ 345736      ┆ News & Politics  ┆ 2007            │\n",
       "└─────┴─────────────────────┴──────────────────┴──────────────┴─────────────┴──────────────────┴─────────────────┘"
      ]
     },
     "execution_count": 49,
     "metadata": {},
     "output_type": "execute_result"
    }
   ],
   "source": [
    "dataframe"
   ]
  },
  {
   "cell_type": "markdown",
   "id": "fcc5957e",
   "metadata": {},
   "source": [
    "# Limpeza de Dados"
   ]
  },
  {
   "cell_type": "markdown",
   "id": "d21b3004",
   "metadata": {},
   "source": [
    "## Valores Nulos\n",
    "No pandas fazemos:\n",
    "\n",
    "    df.isnull().values.any()"
   ]
  },
  {
   "cell_type": "code",
   "execution_count": 50,
   "id": "53599d77",
   "metadata": {},
   "outputs": [
    {
     "data": {
      "text/html": [
       "<div><style>\n",
       ".dataframe > thead > tr > th,\n",
       ".dataframe > tbody > tr > td {\n",
       "  text-align: right;\n",
       "}\n",
       "</style>\n",
       "<small>shape: (1, 7)</small><table border=\"1\" class=\"dataframe\"><thead><tr><th></th><th>Channel_Name</th><th>Subscriber_Count</th><th>Video_Views</th><th>Video_Count</th><th>Genre</th><th>Channel_Started</th></tr><tr><td>u32</td><td>u32</td><td>u32</td><td>u32</td><td>u32</td><td>u32</td><td>u32</td></tr></thead><tbody><tr><td>0</td><td>0</td><td>0</td><td>0</td><td>0</td><td>0</td><td>0</td></tr></tbody></table></div>"
      ],
      "text/plain": [
       "shape: (1, 7)\n",
       "┌─────┬──────────────┬──────────────────┬─────────────┬─────────────┬───────┬─────────────────┐\n",
       "│     ┆ Channel_Name ┆ Subscriber_Count ┆ Video_Views ┆ Video_Count ┆ Genre ┆ Channel_Started │\n",
       "│ --- ┆ ---          ┆ ---              ┆ ---         ┆ ---         ┆ ---   ┆ ---             │\n",
       "│ u32 ┆ u32          ┆ u32              ┆ u32         ┆ u32         ┆ u32   ┆ u32             │\n",
       "╞═════╪══════════════╪══════════════════╪═════════════╪═════════════╪═══════╪═════════════════╡\n",
       "│ 0   ┆ 0            ┆ 0                ┆ 0           ┆ 0           ┆ 0     ┆ 0               │\n",
       "└─────┴──────────────┴──────────────────┴─────────────┴─────────────┴───────┴─────────────────┘"
      ]
     },
     "execution_count": 50,
     "metadata": {},
     "output_type": "execute_result"
    }
   ],
   "source": [
    "dataframe.null_count()"
   ]
  },
  {
   "cell_type": "code",
   "execution_count": 51,
   "id": "c81d1035",
   "metadata": {},
   "outputs": [
    {
     "data": {
      "text/html": [
       "<div><style>\n",
       ".dataframe > thead > tr > th,\n",
       ".dataframe > tbody > tr > td {\n",
       "  text-align: right;\n",
       "}\n",
       "</style>\n",
       "<small>shape: (0, 7)</small><table border=\"1\" class=\"dataframe\"><thead><tr><th></th><th>Channel_Name</th><th>Subscriber_Count</th><th>Video_Views</th><th>Video_Count</th><th>Genre</th><th>Channel_Started</th></tr><tr><td>i64</td><td>str</td><td>i64</td><td>i64</td><td>i64</td><td>str</td><td>i64</td></tr></thead><tbody></tbody></table></div>"
      ],
      "text/plain": [
       "shape: (0, 7)\n",
       "┌─────┬──────────────┬──────────────────┬─────────────┬─────────────┬───────┬─────────────────┐\n",
       "│     ┆ Channel_Name ┆ Subscriber_Count ┆ Video_Views ┆ Video_Count ┆ Genre ┆ Channel_Started │\n",
       "│ --- ┆ ---          ┆ ---              ┆ ---         ┆ ---         ┆ ---   ┆ ---             │\n",
       "│ i64 ┆ str          ┆ i64              ┆ i64         ┆ i64         ┆ str   ┆ i64             │\n",
       "╞═════╪══════════════╪══════════════════╪═════════════╪═════════════╪═══════╪═════════════════╡\n",
       "└─────┴──────────────┴──────────────────┴─────────────┴─────────────┴───────┴─────────────────┘"
      ]
     },
     "execution_count": 51,
     "metadata": {},
     "output_type": "execute_result"
    }
   ],
   "source": [
    "(dataframe\n",
    "    .filter(pl.col('Channel_Name').is_null())\n",
    "    .head(3)\n",
    ")"
   ]
  },
  {
   "cell_type": "code",
   "execution_count": 52,
   "id": "5d9d2a70",
   "metadata": {},
   "outputs": [
    {
     "data": {
      "text/html": [
       "<div><style>\n",
       ".dataframe > thead > tr > th,\n",
       ".dataframe > tbody > tr > td {\n",
       "  text-align: right;\n",
       "}\n",
       "</style>\n",
       "<small>shape: (3, 7)</small><table border=\"1\" class=\"dataframe\"><thead><tr><th></th><th>Channel_Name</th><th>Subscriber_Count</th><th>Video_Views</th><th>Video_Count</th><th>Genre</th><th>Channel_Started</th></tr><tr><td>i64</td><td>str</td><td>i64</td><td>i64</td><td>i64</td><td>str</td><td>i64</td></tr></thead><tbody><tr><td>0</td><td>&quot;T-Series&quot;</td><td>237000000</td><td>216495600668</td><td>18831</td><td>&quot;Music&quot;</td><td>2006</td></tr><tr><td>1</td><td>&quot;Cocomelon - Nu...</td><td>154000000</td><td>152638999634</td><td>861</td><td>&quot;Education&quot;</td><td>2006</td></tr><tr><td>2</td><td>&quot;SET India&quot;</td><td>152000000</td><td>140138068504</td><td>105649</td><td>&quot;Film &amp; Animati...</td><td>2006</td></tr></tbody></table></div>"
      ],
      "text/plain": [
       "shape: (3, 7)\n",
       "┌─────┬─────────────────────┬──────────────────┬──────────────┬─────────────┬──────────────────┬─────────────────┐\n",
       "│     ┆ Channel_Name        ┆ Subscriber_Count ┆ Video_Views  ┆ Video_Count ┆ Genre            ┆ Channel_Started │\n",
       "│ --- ┆ ---                 ┆ ---              ┆ ---          ┆ ---         ┆ ---              ┆ ---             │\n",
       "│ i64 ┆ str                 ┆ i64              ┆ i64          ┆ i64         ┆ str              ┆ i64             │\n",
       "╞═════╪═════════════════════╪══════════════════╪══════════════╪═════════════╪══════════════════╪═════════════════╡\n",
       "│ 0   ┆ T-Series            ┆ 237000000        ┆ 216495600668 ┆ 18831       ┆ Music            ┆ 2006            │\n",
       "│ 1   ┆ Cocomelon - Nursery ┆ 154000000        ┆ 152638999634 ┆ 861         ┆ Education        ┆ 2006            │\n",
       "│     ┆ Rhymes              ┆                  ┆              ┆             ┆                  ┆                 │\n",
       "│ 2   ┆ SET India           ┆ 152000000        ┆ 140138068504 ┆ 105649      ┆ Film & Animation ┆ 2006            │\n",
       "└─────┴─────────────────────┴──────────────────┴──────────────┴─────────────┴──────────────────┴─────────────────┘"
      ]
     },
     "execution_count": 52,
     "metadata": {},
     "output_type": "execute_result"
    }
   ],
   "source": [
    "(dataframe\n",
    "    .filter(~ pl.col('Channel_Name').is_null())\n",
    "    .head(3)\n",
    ")"
   ]
  },
  {
   "cell_type": "markdown",
   "id": "a8865140",
   "metadata": {},
   "source": [
    "No pandas, fazemos:\n",
    "    \n",
    "    dataframe[\"Channel_Name\"].fillna(\"Sem nome\", inplace = False)"
   ]
  },
  {
   "cell_type": "code",
   "execution_count": 53,
   "id": "d656bb7c",
   "metadata": {},
   "outputs": [
    {
     "data": {
      "text/html": [
       "<div><style>\n",
       ".dataframe > thead > tr > th,\n",
       ".dataframe > tbody > tr > td {\n",
       "  text-align: right;\n",
       "}\n",
       "</style>\n",
       "<small>shape: (296, 7)</small><table border=\"1\" class=\"dataframe\"><thead><tr><th></th><th>Channel_Name</th><th>Subscriber_Count</th><th>Video_Views</th><th>Video_Count</th><th>Genre</th><th>Channel_Started</th></tr><tr><td>i64</td><td>str</td><td>i64</td><td>i64</td><td>i64</td><td>str</td><td>i64</td></tr></thead><tbody><tr><td>0</td><td>&quot;T-Series&quot;</td><td>237000000</td><td>216495600668</td><td>18831</td><td>&quot;Music&quot;</td><td>2006</td></tr><tr><td>1</td><td>&quot;Cocomelon - Nu...</td><td>154000000</td><td>152638999634</td><td>861</td><td>&quot;Education&quot;</td><td>2006</td></tr><tr><td>2</td><td>&quot;SET India&quot;</td><td>152000000</td><td>140138068504</td><td>105649</td><td>&quot;Film &amp; Animati...</td><td>2006</td></tr><tr><td>3</td><td>&quot;Sony SAB&quot;</td><td>77500000</td><td>92952274861</td><td>65028</td><td>&quot;Film &amp; Animati...</td><td>2007</td></tr><tr><td>4</td><td>&quot;✿ Kids Diana S...</td><td>108000000</td><td>88452629066</td><td>1070</td><td>&quot;People &amp; Blogs...</td><td>2015</td></tr><tr><td>5</td><td>&quot;Like Nastya&quot;</td><td>104000000</td><td>88060349741</td><td>762</td><td>&quot;People &amp; Blogs...</td><td>2016</td></tr><tr><td>6</td><td>&quot;WWE&quot;</td><td>93500000</td><td>74447865775</td><td>66901</td><td>&quot;Sports&quot;</td><td>2007</td></tr><tr><td>7</td><td>&quot;Vlad and Niki&quot;</td><td>93900000</td><td>73333582362</td><td>530</td><td>&quot;Entertainment&quot;</td><td>2018</td></tr><tr><td>8</td><td>&quot;Movieclips&quot;</td><td>58700000</td><td>58923017461</td><td>40063</td><td>&quot;Film &amp; Animati...</td><td>2006</td></tr><tr><td>9</td><td>&quot;Colors TV&quot;</td><td>60200000</td><td>58056997206</td><td>104523</td><td>&quot;Film &amp; Animati...</td><td>2008</td></tr><tr><td>10</td><td>&quot;Zee Music Comp...</td><td>92800000</td><td>54295114324</td><td>7768</td><td>&quot;Music&quot;</td><td>2014</td></tr><tr><td>11</td><td>&quot;El Reino Infan...</td><td>55600000</td><td>54151900416</td><td>1434</td><td>&quot;Music&quot;</td><td>2011</td></tr><tr><td>&hellip;</td><td>&hellip;</td><td>&hellip;</td><td>&hellip;</td><td>&hellip;</td><td>&hellip;</td><td>&hellip;</td></tr><tr><td>288</td><td>&quot;ABP NEWS&quot;</td><td>35500000</td><td>11840564703</td><td>262326</td><td>&quot;People &amp; Blogs...</td><td>2012</td></tr><tr><td>289</td><td>&quot;GMMTV OFFICIAL...</td><td>15800000</td><td>11838649898</td><td>22174</td><td>&quot;Entertainment&quot;</td><td>2010</td></tr><tr><td>290</td><td>&quot;michaeljackson...</td><td>8080000</td><td>11806216949</td><td>138</td><td>&quot;Music&quot;</td><td>2009</td></tr><tr><td>291</td><td>&quot;ItsFunneh&quot;</td><td>9840000</td><td>11791649003</td><td>2519</td><td>&quot;Gaming&quot;</td><td>2011</td></tr><tr><td>292</td><td>&quot;NBA&quot;</td><td>19900000</td><td>11761981184</td><td>45177</td><td>&quot;Sports&quot;</td><td>2005</td></tr><tr><td>293</td><td>&quot;ChainsmokersVE...</td><td>11100000</td><td>11734620739</td><td>246</td><td>&quot;Music&quot;</td><td>2012</td></tr><tr><td>294</td><td>&quot;eltrece&quot;</td><td>12100000</td><td>11709869278</td><td>159305</td><td>&quot;Entertainment&quot;</td><td>2014</td></tr><tr><td>295</td><td>&quot;Jake Fellman&quot;</td><td>15000000</td><td>11618626248</td><td>440</td><td>&quot;Entertainment&quot;</td><td>2012</td></tr><tr><td>296</td><td>&quot;DisneyJuniorUK...</td><td>11300000</td><td>11586962179</td><td>2789</td><td>&quot;Entertainment&quot;</td><td>2010</td></tr><tr><td>297</td><td>&quot;JTBC Entertain...</td><td>7580000</td><td>11512332695</td><td>76838</td><td>&quot;Entertainment&quot;</td><td>2012</td></tr><tr><td>298</td><td>&quot;Mnet TV&quot;</td><td>9040000</td><td>11442069884</td><td>21617</td><td>&quot;Entertainment&quot;</td><td>2013</td></tr><tr><td>299</td><td>&quot;GMA News&quot;</td><td>12900000</td><td>11387663843</td><td>345736</td><td>&quot;News &amp; Politic...</td><td>2007</td></tr></tbody></table></div>"
      ],
      "text/plain": [
       "shape: (296, 7)\n",
       "┌─────┬─────────────────────┬──────────────────┬──────────────┬─────────────┬──────────────────┬─────────────────┐\n",
       "│     ┆ Channel_Name        ┆ Subscriber_Count ┆ Video_Views  ┆ Video_Count ┆ Genre            ┆ Channel_Started │\n",
       "│ --- ┆ ---                 ┆ ---              ┆ ---          ┆ ---         ┆ ---              ┆ ---             │\n",
       "│ i64 ┆ str                 ┆ i64              ┆ i64          ┆ i64         ┆ str              ┆ i64             │\n",
       "╞═════╪═════════════════════╪══════════════════╪══════════════╪═════════════╪══════════════════╪═════════════════╡\n",
       "│ 0   ┆ T-Series            ┆ 237000000        ┆ 216495600668 ┆ 18831       ┆ Music            ┆ 2006            │\n",
       "│ 1   ┆ Cocomelon - Nursery ┆ 154000000        ┆ 152638999634 ┆ 861         ┆ Education        ┆ 2006            │\n",
       "│     ┆ Rhymes              ┆                  ┆              ┆             ┆                  ┆                 │\n",
       "│ 2   ┆ SET India           ┆ 152000000        ┆ 140138068504 ┆ 105649      ┆ Film & Animation ┆ 2006            │\n",
       "│ 3   ┆ Sony SAB            ┆ 77500000         ┆ 92952274861  ┆ 65028       ┆ Film & Animation ┆ 2007            │\n",
       "│ …   ┆ …                   ┆ …                ┆ …            ┆ …           ┆ …                ┆ …               │\n",
       "│ 296 ┆ DisneyJuniorUK      ┆ 11300000         ┆ 11586962179  ┆ 2789        ┆ Entertainment    ┆ 2010            │\n",
       "│ 297 ┆ JTBC Entertainment  ┆ 7580000          ┆ 11512332695  ┆ 76838       ┆ Entertainment    ┆ 2012            │\n",
       "│ 298 ┆ Mnet TV             ┆ 9040000          ┆ 11442069884  ┆ 21617       ┆ Entertainment    ┆ 2013            │\n",
       "│ 299 ┆ GMA News            ┆ 12900000         ┆ 11387663843  ┆ 345736      ┆ News & Politics  ┆ 2007            │\n",
       "└─────┴─────────────────────┴──────────────────┴──────────────┴─────────────┴──────────────────┴─────────────────┘"
      ]
     },
     "execution_count": 53,
     "metadata": {},
     "output_type": "execute_result"
    }
   ],
   "source": [
    "(dataframe\n",
    "     .with_columns(pl.col('Channel_Name').fill_null(pl.lit(\"Sem nome\")))\n",
    ")"
   ]
  },
  {
   "cell_type": "markdown",
   "id": "fbe3eeae",
   "metadata": {},
   "source": [
    "Similar ao pandas"
   ]
  },
  {
   "cell_type": "code",
   "execution_count": 54,
   "id": "84e9b870",
   "metadata": {},
   "outputs": [
    {
     "data": {
      "text/html": [
       "<div><style>\n",
       ".dataframe > thead > tr > th,\n",
       ".dataframe > tbody > tr > td {\n",
       "  text-align: right;\n",
       "}\n",
       "</style>\n",
       "<small>shape: (296, 7)</small><table border=\"1\" class=\"dataframe\"><thead><tr><th></th><th>Channel_Name</th><th>Subscriber_Count</th><th>Video_Views</th><th>Video_Count</th><th>Genre</th><th>Channel_Started</th></tr><tr><td>i64</td><td>str</td><td>i64</td><td>i64</td><td>i64</td><td>str</td><td>i64</td></tr></thead><tbody><tr><td>0</td><td>&quot;T-Series&quot;</td><td>237000000</td><td>216495600668</td><td>18831</td><td>&quot;Music&quot;</td><td>2006</td></tr><tr><td>1</td><td>&quot;Cocomelon - Nu...</td><td>154000000</td><td>152638999634</td><td>861</td><td>&quot;Education&quot;</td><td>2006</td></tr><tr><td>2</td><td>&quot;SET India&quot;</td><td>152000000</td><td>140138068504</td><td>105649</td><td>&quot;Film &amp; Animati...</td><td>2006</td></tr><tr><td>3</td><td>&quot;Sony SAB&quot;</td><td>77500000</td><td>92952274861</td><td>65028</td><td>&quot;Film &amp; Animati...</td><td>2007</td></tr><tr><td>4</td><td>&quot;✿ Kids Diana S...</td><td>108000000</td><td>88452629066</td><td>1070</td><td>&quot;People &amp; Blogs...</td><td>2015</td></tr><tr><td>5</td><td>&quot;Like Nastya&quot;</td><td>104000000</td><td>88060349741</td><td>762</td><td>&quot;People &amp; Blogs...</td><td>2016</td></tr><tr><td>6</td><td>&quot;WWE&quot;</td><td>93500000</td><td>74447865775</td><td>66901</td><td>&quot;Sports&quot;</td><td>2007</td></tr><tr><td>7</td><td>&quot;Vlad and Niki&quot;</td><td>93900000</td><td>73333582362</td><td>530</td><td>&quot;Entertainment&quot;</td><td>2018</td></tr><tr><td>8</td><td>&quot;Movieclips&quot;</td><td>58700000</td><td>58923017461</td><td>40063</td><td>&quot;Film &amp; Animati...</td><td>2006</td></tr><tr><td>9</td><td>&quot;Colors TV&quot;</td><td>60200000</td><td>58056997206</td><td>104523</td><td>&quot;Film &amp; Animati...</td><td>2008</td></tr><tr><td>10</td><td>&quot;Zee Music Comp...</td><td>92800000</td><td>54295114324</td><td>7768</td><td>&quot;Music&quot;</td><td>2014</td></tr><tr><td>11</td><td>&quot;El Reino Infan...</td><td>55600000</td><td>54151900416</td><td>1434</td><td>&quot;Music&quot;</td><td>2011</td></tr><tr><td>&hellip;</td><td>&hellip;</td><td>&hellip;</td><td>&hellip;</td><td>&hellip;</td><td>&hellip;</td><td>&hellip;</td></tr><tr><td>288</td><td>&quot;ABP NEWS&quot;</td><td>35500000</td><td>11840564703</td><td>262326</td><td>&quot;People &amp; Blogs...</td><td>2012</td></tr><tr><td>289</td><td>&quot;GMMTV OFFICIAL...</td><td>15800000</td><td>11838649898</td><td>22174</td><td>&quot;Entertainment&quot;</td><td>2010</td></tr><tr><td>290</td><td>&quot;michaeljackson...</td><td>8080000</td><td>11806216949</td><td>138</td><td>&quot;Music&quot;</td><td>2009</td></tr><tr><td>291</td><td>&quot;ItsFunneh&quot;</td><td>9840000</td><td>11791649003</td><td>2519</td><td>&quot;Gaming&quot;</td><td>2011</td></tr><tr><td>292</td><td>&quot;NBA&quot;</td><td>19900000</td><td>11761981184</td><td>45177</td><td>&quot;Sports&quot;</td><td>2005</td></tr><tr><td>293</td><td>&quot;ChainsmokersVE...</td><td>11100000</td><td>11734620739</td><td>246</td><td>&quot;Music&quot;</td><td>2012</td></tr><tr><td>294</td><td>&quot;eltrece&quot;</td><td>12100000</td><td>11709869278</td><td>159305</td><td>&quot;Entertainment&quot;</td><td>2014</td></tr><tr><td>295</td><td>&quot;Jake Fellman&quot;</td><td>15000000</td><td>11618626248</td><td>440</td><td>&quot;Entertainment&quot;</td><td>2012</td></tr><tr><td>296</td><td>&quot;DisneyJuniorUK...</td><td>11300000</td><td>11586962179</td><td>2789</td><td>&quot;Entertainment&quot;</td><td>2010</td></tr><tr><td>297</td><td>&quot;JTBC Entertain...</td><td>7580000</td><td>11512332695</td><td>76838</td><td>&quot;Entertainment&quot;</td><td>2012</td></tr><tr><td>298</td><td>&quot;Mnet TV&quot;</td><td>9040000</td><td>11442069884</td><td>21617</td><td>&quot;Entertainment&quot;</td><td>2013</td></tr><tr><td>299</td><td>&quot;GMA News&quot;</td><td>12900000</td><td>11387663843</td><td>345736</td><td>&quot;News &amp; Politic...</td><td>2007</td></tr></tbody></table></div>"
      ],
      "text/plain": [
       "shape: (296, 7)\n",
       "┌─────┬─────────────────────┬──────────────────┬──────────────┬─────────────┬──────────────────┬─────────────────┐\n",
       "│     ┆ Channel_Name        ┆ Subscriber_Count ┆ Video_Views  ┆ Video_Count ┆ Genre            ┆ Channel_Started │\n",
       "│ --- ┆ ---                 ┆ ---              ┆ ---          ┆ ---         ┆ ---              ┆ ---             │\n",
       "│ i64 ┆ str                 ┆ i64              ┆ i64          ┆ i64         ┆ str              ┆ i64             │\n",
       "╞═════╪═════════════════════╪══════════════════╪══════════════╪═════════════╪══════════════════╪═════════════════╡\n",
       "│ 0   ┆ T-Series            ┆ 237000000        ┆ 216495600668 ┆ 18831       ┆ Music            ┆ 2006            │\n",
       "│ 1   ┆ Cocomelon - Nursery ┆ 154000000        ┆ 152638999634 ┆ 861         ┆ Education        ┆ 2006            │\n",
       "│     ┆ Rhymes              ┆                  ┆              ┆             ┆                  ┆                 │\n",
       "│ 2   ┆ SET India           ┆ 152000000        ┆ 140138068504 ┆ 105649      ┆ Film & Animation ┆ 2006            │\n",
       "│ 3   ┆ Sony SAB            ┆ 77500000         ┆ 92952274861  ┆ 65028       ┆ Film & Animation ┆ 2007            │\n",
       "│ …   ┆ …                   ┆ …                ┆ …            ┆ …           ┆ …                ┆ …               │\n",
       "│ 296 ┆ DisneyJuniorUK      ┆ 11300000         ┆ 11586962179  ┆ 2789        ┆ Entertainment    ┆ 2010            │\n",
       "│ 297 ┆ JTBC Entertainment  ┆ 7580000          ┆ 11512332695  ┆ 76838       ┆ Entertainment    ┆ 2012            │\n",
       "│ 298 ┆ Mnet TV             ┆ 9040000          ┆ 11442069884  ┆ 21617       ┆ Entertainment    ┆ 2013            │\n",
       "│ 299 ┆ GMA News            ┆ 12900000         ┆ 11387663843  ┆ 345736      ┆ News & Politics  ┆ 2007            │\n",
       "└─────┴─────────────────────┴──────────────────┴──────────────┴─────────────┴──────────────────┴─────────────────┘"
      ]
     },
     "execution_count": 54,
     "metadata": {},
     "output_type": "execute_result"
    }
   ],
   "source": [
    "dataframe.drop_nulls()"
   ]
  },
  {
   "cell_type": "markdown",
   "id": "1331c85c",
   "metadata": {},
   "source": [
    "## Duplicados\n",
    "Funciona similar ao pandas"
   ]
  },
  {
   "cell_type": "code",
   "execution_count": 55,
   "id": "bf6b088b",
   "metadata": {},
   "outputs": [
    {
     "data": {
      "text/html": [
       "<div><style>\n",
       ".dataframe > thead > tr > th,\n",
       ".dataframe > tbody > tr > td {\n",
       "  text-align: right;\n",
       "}\n",
       "</style>\n",
       "<small>shape: (296,)</small><table border=\"1\" class=\"dataframe\"><thead><tr><th></th></tr><tr><td>bool</td></tr></thead><tbody><tr><td>false</td></tr><tr><td>false</td></tr><tr><td>false</td></tr><tr><td>false</td></tr><tr><td>false</td></tr><tr><td>false</td></tr><tr><td>false</td></tr><tr><td>false</td></tr><tr><td>false</td></tr><tr><td>false</td></tr><tr><td>false</td></tr><tr><td>false</td></tr><tr><td>&hellip;</td></tr><tr><td>false</td></tr><tr><td>false</td></tr><tr><td>false</td></tr><tr><td>false</td></tr><tr><td>false</td></tr><tr><td>false</td></tr><tr><td>false</td></tr><tr><td>false</td></tr><tr><td>false</td></tr><tr><td>false</td></tr><tr><td>false</td></tr><tr><td>false</td></tr></tbody></table></div>"
      ],
      "text/plain": [
       "shape: (296,)\n",
       "Series: '' [bool]\n",
       "[\n",
       "\tfalse\n",
       "\tfalse\n",
       "\tfalse\n",
       "\tfalse\n",
       "\tfalse\n",
       "\tfalse\n",
       "\tfalse\n",
       "\tfalse\n",
       "\tfalse\n",
       "\tfalse\n",
       "\tfalse\n",
       "\tfalse\n",
       "\t…\n",
       "\tfalse\n",
       "\tfalse\n",
       "\tfalse\n",
       "\tfalse\n",
       "\tfalse\n",
       "\tfalse\n",
       "\tfalse\n",
       "\tfalse\n",
       "\tfalse\n",
       "\tfalse\n",
       "\tfalse\n",
       "\tfalse\n",
       "\tfalse\n",
       "]"
      ]
     },
     "execution_count": 55,
     "metadata": {},
     "output_type": "execute_result"
    }
   ],
   "source": [
    "dataframe.is_duplicated()"
   ]
  },
  {
   "cell_type": "code",
   "execution_count": 56,
   "id": "7f9e1148",
   "metadata": {},
   "outputs": [
    {
     "data": {
      "text/html": [
       "<div><style>\n",
       ".dataframe > thead > tr > th,\n",
       ".dataframe > tbody > tr > td {\n",
       "  text-align: right;\n",
       "}\n",
       "</style>\n",
       "<small>shape: (11, 7)</small><table border=\"1\" class=\"dataframe\"><thead><tr><th></th><th>Channel_Name</th><th>Subscriber_Count</th><th>Video_Views</th><th>Video_Count</th><th>Genre</th><th>Channel_Started</th></tr><tr><td>i64</td><td>str</td><td>i64</td><td>i64</td><td>i64</td><td>str</td><td>i64</td></tr></thead><tbody><tr><td>0</td><td>&quot;T-Series&quot;</td><td>237000000</td><td>216495600668</td><td>18831</td><td>&quot;Music&quot;</td><td>2006</td></tr><tr><td>1</td><td>&quot;Cocomelon - Nu...</td><td>154000000</td><td>152638999634</td><td>861</td><td>&quot;Education&quot;</td><td>2006</td></tr><tr><td>2</td><td>&quot;SET India&quot;</td><td>152000000</td><td>140138068504</td><td>105649</td><td>&quot;Film &amp; Animati...</td><td>2006</td></tr><tr><td>4</td><td>&quot;✿ Kids Diana S...</td><td>108000000</td><td>88452629066</td><td>1070</td><td>&quot;People &amp; Blogs...</td><td>2015</td></tr><tr><td>6</td><td>&quot;WWE&quot;</td><td>93500000</td><td>74447865775</td><td>66901</td><td>&quot;Sports&quot;</td><td>2007</td></tr><tr><td>7</td><td>&quot;Vlad and Niki&quot;</td><td>93900000</td><td>73333582362</td><td>530</td><td>&quot;Entertainment&quot;</td><td>2018</td></tr><tr><td>30</td><td>&quot;LankyBox&quot;</td><td>23300000</td><td>31155421572</td><td>7307</td><td>&quot;Comedy&quot;</td><td>2016</td></tr><tr><td>37</td><td>&quot;PewDiePie&quot;</td><td>111000000</td><td>28920114696</td><td>4700</td><td>&quot;Gaming&quot;</td><td>2010</td></tr><tr><td>58</td><td>&quot;5-Minute Craft...</td><td>78900000</td><td>25251693106</td><td>6022</td><td>&quot;Howto &amp; Style&quot;</td><td>2016</td></tr><tr><td>72</td><td>&quot;Aaj Tak&quot;</td><td>55700000</td><td>23158451096</td><td>242010</td><td>&quot;News &amp; Politic...</td><td>2009</td></tr><tr><td>148</td><td>&quot;That Little Pu...</td><td>18900000</td><td>16582763026</td><td>672</td><td>&quot;Pets &amp; Animals...</td><td>2020</td></tr></tbody></table></div>"
      ],
      "text/plain": [
       "shape: (11, 7)\n",
       "┌─────┬─────────────────────┬──────────────────┬──────────────┬─────────────┬──────────────────┬─────────────────┐\n",
       "│     ┆ Channel_Name        ┆ Subscriber_Count ┆ Video_Views  ┆ Video_Count ┆ Genre            ┆ Channel_Started │\n",
       "│ --- ┆ ---                 ┆ ---              ┆ ---          ┆ ---         ┆ ---              ┆ ---             │\n",
       "│ i64 ┆ str                 ┆ i64              ┆ i64          ┆ i64         ┆ str              ┆ i64             │\n",
       "╞═════╪═════════════════════╪══════════════════╪══════════════╪═════════════╪══════════════════╪═════════════════╡\n",
       "│ 0   ┆ T-Series            ┆ 237000000        ┆ 216495600668 ┆ 18831       ┆ Music            ┆ 2006            │\n",
       "│ 1   ┆ Cocomelon - Nursery ┆ 154000000        ┆ 152638999634 ┆ 861         ┆ Education        ┆ 2006            │\n",
       "│     ┆ Rhymes              ┆                  ┆              ┆             ┆                  ┆                 │\n",
       "│ 2   ┆ SET India           ┆ 152000000        ┆ 140138068504 ┆ 105649      ┆ Film & Animation ┆ 2006            │\n",
       "│ 4   ┆ ✿ Kids Diana Show   ┆ 108000000        ┆ 88452629066  ┆ 1070        ┆ People & Blogs   ┆ 2015            │\n",
       "│ …   ┆ …                   ┆ …                ┆ …            ┆ …           ┆ …                ┆ …               │\n",
       "│ 37  ┆ PewDiePie           ┆ 111000000        ┆ 28920114696  ┆ 4700        ┆ Gaming           ┆ 2010            │\n",
       "│ 58  ┆ 5-Minute Crafts     ┆ 78900000         ┆ 25251693106  ┆ 6022        ┆ Howto & Style    ┆ 2016            │\n",
       "│ 72  ┆ Aaj Tak             ┆ 55700000         ┆ 23158451096  ┆ 242010      ┆ News & Politics  ┆ 2009            │\n",
       "│ 148 ┆ That Little Puff    ┆ 18900000         ┆ 16582763026  ┆ 672         ┆ Pets & Animals   ┆ 2020            │\n",
       "└─────┴─────────────────────┴──────────────────┴──────────────┴─────────────┴──────────────────┴─────────────────┘"
      ]
     },
     "execution_count": 56,
     "metadata": {},
     "output_type": "execute_result"
    }
   ],
   "source": [
    "(dataframe\n",
    "    .unique(subset = ['Genre', 'Channel_Started'], keep = 'first'))"
   ]
  },
  {
   "cell_type": "markdown",
   "id": "75fdbb5e",
   "metadata": {},
   "source": [
    "# Operações"
   ]
  },
  {
   "cell_type": "markdown",
   "id": "934b88a4",
   "metadata": {},
   "source": [
    "## Operações entre colunas para gerar uma nova"
   ]
  },
  {
   "cell_type": "code",
   "execution_count": null,
   "id": "5322e093",
   "metadata": {},
   "outputs": [],
   "source": [
    "(dataframe\n",
    "    .with_columns((pl.col('Video_Views') / pl.col('Video_Count')).alias('Views_per_video'))\n",
    "    .head(3)\n",
    ")"
   ]
  },
  {
   "cell_type": "code",
   "execution_count": null,
   "id": "065f7794",
   "metadata": {},
   "outputs": [],
   "source": [
    "(dataframe\n",
    "    .with_columns(Views_per_video = pl.col('Video_Views') * pl.col('Video_Count'),\n",
    "                 Subscribers_per_video = pl.col('Subscriber_Count') * pl.col('Video_Count'))\n",
    "    .head(3))"
   ]
  },
  {
   "cell_type": "code",
   "execution_count": null,
   "id": "c15bd9b6",
   "metadata": {},
   "outputs": [],
   "source": [
    "(dataframe\n",
    "     .select(pl.col('Channel_Name', 'Video_Count', 'Channel_Started', 'Subscriber_Count'))\n",
    "     .with_columns(\n",
    "         new_constant_column = pl.lit(1),\n",
    "         new_column_sum = pl.col('Video_Count').sum(),\n",
    "         new_column_sum_with_constant = pl.col('Channel_Started') + 10000,\n",
    "         new_column_case_when = pl.when(pl.col('Subscriber_Count') > 10000000).then(pl.lit(\"Canal Giga\")).otherwise(pl.lit(\"Canal Ok\"))\n",
    "     )\n",
    ")"
   ]
  },
  {
   "cell_type": "markdown",
   "id": "463a9774",
   "metadata": {},
   "source": [
    "## Value Counts"
   ]
  },
  {
   "cell_type": "code",
   "execution_count": null,
   "id": "61508d26",
   "metadata": {},
   "outputs": [],
   "source": [
    "dataframe[\"Genre\"].value_counts()"
   ]
  },
  {
   "cell_type": "code",
   "execution_count": null,
   "id": "4f78199d",
   "metadata": {},
   "outputs": [],
   "source": [
    "dataframe[\"Genre\"].value_counts(sort=True)"
   ]
  },
  {
   "cell_type": "markdown",
   "id": "28772174",
   "metadata": {},
   "source": [
    "# Group By\n",
    "Levemente parecido no pandas, com a diferença de que no Pandas essa operação costuma retornar um dataframe com MultiIndex que costuma ser um pouco trabalhoso de lidar."
   ]
  },
  {
   "cell_type": "code",
   "execution_count": null,
   "id": "afa12384",
   "metadata": {},
   "outputs": [],
   "source": [
    "dataframe.groupby('Channel_Started').agg(\n",
    "    pl.col('Video_Count').count().alias('n'),\n",
    "    pl.col('Video_Count').mean().alias('mean_video_count'),\n",
    "    pl.col('Video_Count').median().alias('median_video_count'),\n",
    "    pl.col('Video_Count').max().alias('max_video_count'),\n",
    "    pl.col('Video_Count').min().alias('min_video_count'),\n",
    "    pl.col('Video_Count').sum().cast(pl.Int64).alias('sum_video_count'),\n",
    "    pl.col('Video_Count').quantile(0.1).alias('q10_video_count'),\n",
    "    pl.col('Video_Count').quantile(0.9).alias('q90_video_count'),\n",
    "    pl.col('Channel_Name').first().alias('first_name'),\n",
    "    pl.col('Channel_Name').last().alias('last_name'),\n",
    "    pl.col('Channel_Name').n_unique().alias('unique_names')\n",
    ")"
   ]
  },
  {
   "cell_type": "code",
   "execution_count": null,
   "id": "187e2aaa",
   "metadata": {},
   "outputs": [],
   "source": [
    "dataframe.groupby('Channel_Started', 'Genre').agg(\n",
    "    pl.col('Video_Count').count().alias('n'),\n",
    "    pl.col('Video_Count').mean().alias('mean_video_count'),\n",
    "    pl.col('Video_Count').median().alias('median_video_count'),\n",
    "    pl.col('Video_Count').max().alias('max_video_count'),\n",
    "    pl.col('Video_Count').min().alias('min_video_count'),\n",
    "    pl.col('Video_Count').sum().cast(pl.Int64).alias('sum_video_count'),\n",
    "    pl.col('Video_Count').quantile(0.1).alias('q10_video_count'),\n",
    "    pl.col('Video_Count').quantile(0.9).alias('q90_video_count'),\n",
    "    pl.col('Channel_Name').first().alias('first_name'),\n",
    "    pl.col('Channel_Name').last().alias('last_name'),\n",
    "    pl.col('Channel_Name').n_unique().alias('unique_names')\n",
    ").head()"
   ]
  },
  {
   "cell_type": "markdown",
   "id": "cc221002",
   "metadata": {},
   "source": [
    "É possível combinar filtros dentro da agregação durante o Group By, algo que não é possível no Pandas.\n",
    "\n",
    "Queremos agrupar pelo ano do inicio do canal, separando a média pelos Gêneros."
   ]
  },
  {
   "cell_type": "code",
   "execution_count": null,
   "id": "c24583a3",
   "metadata": {},
   "outputs": [],
   "source": [
    "(dataframe\n",
    "    .groupby('Channel_Started', maintain_order = True)\n",
    "    .agg(\n",
    "        pl.col('Video_Count').filter(pl.col('Genre').is_in([\"Music\", \"Entertainment\"])).mean().alias(\"Video_Count_Fun\"),\n",
    "        pl.col('Video_Count').filter(pl.col('Genre').is_in([\"Education\"])).mean().alias(\"Video_Count_Edu\")\n",
    "        )\n",
    ")"
   ]
  },
  {
   "cell_type": "code",
   "execution_count": null,
   "id": "71de3e4b",
   "metadata": {},
   "outputs": [],
   "source": [
    "(dataframe\n",
    "    .filter(pl.col('Genre').is_in([\"Music\", \"Entertainment\"]))\n",
    "    .groupby('Channel_Started', maintain_order = True)\n",
    "    .agg(pl.col('Video_Count').mean().alias(\"Video_Count_Fun\"))\n",
    ")"
   ]
  },
  {
   "cell_type": "markdown",
   "id": "876bdda6",
   "metadata": {},
   "source": [
    "# Ordenando\n",
    "Funciona similar ao pandas"
   ]
  },
  {
   "cell_type": "code",
   "execution_count": null,
   "id": "dd274ade",
   "metadata": {},
   "outputs": [],
   "source": [
    "(dataframe\n",
    "    .sort(by = 'Video_Count', descending = False)\n",
    "    .head(3))"
   ]
  },
  {
   "cell_type": "code",
   "execution_count": null,
   "id": "30a169f9",
   "metadata": {
    "scrolled": true
   },
   "outputs": [],
   "source": [
    "(dataframe\n",
    "    .sort(by = ['Video_Count', 'Video_Views'], descending = [True, False])\n",
    "    .head(3))"
   ]
  },
  {
   "cell_type": "markdown",
   "id": "69d5e647",
   "metadata": {},
   "source": [
    "# Lazy"
   ]
  },
  {
   "cell_type": "code",
   "execution_count": null,
   "id": "ff60b17d",
   "metadata": {},
   "outputs": [],
   "source": [
    "dataframe_with_lazy_logic = pl.read_csv(\"top-300-youtube-channels.csv\").lazy()\n",
    "dataframe_with_lazy_logic.groupby('Channel_Started').agg(\n",
    "    pl.col('Subscriber_Count').mean(),\n",
    "    pl.col('Video_Views').mean(),\n",
    "    pl.col('Video_Count').mean()\n",
    ").sort('Subscriber_Count')"
   ]
  },
  {
   "cell_type": "code",
   "execution_count": null,
   "id": "37adfa17",
   "metadata": {},
   "outputs": [],
   "source": [
    "dataframe_with_lazy_logic = pl.read_csv(\"top-300-youtube-channels.csv\").lazy()\n",
    "dataframe_with_lazy_logic.groupby('Channel_Started').agg(\n",
    "    pl.col('Subscriber_Count').mean(),\n",
    "    pl.col('Video_Views').mean(),\n",
    "    pl.col('Video_Count').mean()\n",
    ").sort('Subscriber_Count').collect()"
   ]
  },
  {
   "cell_type": "markdown",
   "id": "01e857de",
   "metadata": {},
   "source": [
    "# Convertendo Polars para Pandas"
   ]
  },
  {
   "cell_type": "code",
   "execution_count": null,
   "id": "596f9883",
   "metadata": {},
   "outputs": [],
   "source": [
    "dataframe.to_pandas()"
   ]
  },
  {
   "cell_type": "markdown",
   "id": "d8bed63d",
   "metadata": {},
   "source": [
    "# Lógicas de JOIN"
   ]
  },
  {
   "cell_type": "code",
   "execution_count": null,
   "id": "59dcf7c7",
   "metadata": {},
   "outputs": [],
   "source": [
    "df_customers = pl.DataFrame(\n",
    "    {\n",
    "        \"customer_id\": [1, 2, 3],\n",
    "        \"name\": [\"Alice\", \"Bob\", \"Charlie\"],\n",
    "    }\n",
    ")\n",
    "\n",
    "df_orders = pl.DataFrame(\n",
    "    {\n",
    "        \"order_id\": [\"a\", \"b\", \"c\"],\n",
    "        \"customer_id\": [1, 2, 2],\n",
    "        \"amount\": [100, 200, 300],\n",
    "    }\n",
    ")"
   ]
  },
  {
   "cell_type": "code",
   "execution_count": null,
   "id": "6e49d115",
   "metadata": {},
   "outputs": [],
   "source": [
    "df_left_join = df_customers.join(df_orders, on=\"customer_id\", how=\"left\")\n",
    "print(df_left_join)"
   ]
  },
  {
   "cell_type": "code",
   "execution_count": null,
   "id": "5d350dce",
   "metadata": {},
   "outputs": [],
   "source": [
    "df_outer_join = df_customers.join(df_orders, on=\"customer_id\", how=\"outer\")\n",
    "print(df_outer_join)"
   ]
  },
  {
   "cell_type": "code",
   "execution_count": null,
   "id": "d3153dfe",
   "metadata": {},
   "outputs": [],
   "source": [
    "df_colors = pl.DataFrame(\n",
    "    {\n",
    "        \"color\": [\"red\", \"blue\", \"green\"],\n",
    "    }\n",
    ")\n",
    "\n",
    "df_sizes = pl.DataFrame(\n",
    "    {\n",
    "        \"size\": [\"S\", \"M\", \"L\"],\n",
    "    }\n",
    ")"
   ]
  },
  {
   "cell_type": "code",
   "execution_count": null,
   "id": "f57e64a7",
   "metadata": {},
   "outputs": [],
   "source": [
    "df_cross_join = df_colors.join(df_sizes, how=\"cross\")\n",
    "print(df_cross_join)"
   ]
  }
 ],
 "metadata": {
  "kernelspec": {
   "display_name": "Python 3 (ipykernel)",
   "language": "python",
   "name": "python3"
  },
  "language_info": {
   "codemirror_mode": {
    "name": "ipython",
    "version": 3
   },
   "file_extension": ".py",
   "mimetype": "text/x-python",
   "name": "python",
   "nbconvert_exporter": "python",
   "pygments_lexer": "ipython3",
   "version": "3.9.13"
  }
 },
 "nbformat": 4,
 "nbformat_minor": 5
}
